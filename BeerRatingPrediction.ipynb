{
  "nbformat": 4,
  "nbformat_minor": 0,
  "metadata": {
    "colab": {
      "name": "BeerRatingPrediction.ipynb",
      "provenance": [],
      "collapsed_sections": []
    },
    "kernelspec": {
      "name": "python3",
      "display_name": "Python 3"
    },
    "accelerator": "GPU"
  },
  "cells": [
    {
      "cell_type": "markdown",
      "metadata": {
        "id": "ZAlPBFXHQ5-T",
        "colab_type": "text"
      },
      "source": [
        "## Problem Statement\n",
        "- This data set is a Beer data-set for your Data Science case-study round. You are expected to build a Machine Learning model which predicts the overall rating of the beer. (“review/overall” column in “train.csv” is your dependent variable.)\n",
        "\n",
        "## Machine Learning Problem Formulation:\n",
        "__- Formulating this prediction problem as a regression problem.__\n",
        "\n",
        "## Metric Used : \n",
        "\n",
        "- Root Mean Square Error(RMSE) : https://scikit-learn.org/stable/modules/generated/sklearn.metrics.mean_squared_error.html\n",
        "- R^2 or Coefficient of Determination : https://scikit-learn.org/stable/modules/generated/sklearn.metrics.r2_score.html\n",
        "\n",
        "## Data and Datatypes:\n",
        "- index                  int64\n",
        "- beer/ABV             float64\n",
        "- beer/beerId            int64\n",
        "- beer/brewerId          int64\n",
        "- beer/name             object\n",
        "- beer/style            object\n",
        "- review/appearance    float64\n",
        "- review/aroma         float64\n",
        "- review/overall       float64\n",
        "- review/palate        float64\n",
        "- review/taste         float64\n",
        "- review/text           object\n",
        "- review/timeStruct     object\n",
        "- review/timeUnix        int64\n",
        "- user/ageInSeconds    float64\n",
        "- user/birthdayRaw      object\n",
        "- user/birthdayUnix    float64\n",
        "- user/gender           object\n",
        "- user/profileName      object\n",
        "\n",
        "## Approach: \n",
        "1. Data Acquisition\n",
        "2. Data Loading\n",
        "3. Exploratory Data Analysis and Handling nulls \n",
        "4. Data Preprocessing\n",
        "5. Data Vectorisation\n",
        "6. Modelling\n",
        "7. Conclusion"
      ]
    },
    {
      "cell_type": "markdown",
      "metadata": {
        "id": "-i0yOAFwXbYL",
        "colab_type": "text"
      },
      "source": [
        "## Let's Begin !!"
      ]
    },
    {
      "cell_type": "code",
      "metadata": {
        "id": "4YKS0gxRbiQh",
        "colab_type": "code",
        "colab": {
          "base_uri": "https://localhost:8080/",
          "height": 34
        },
        "outputId": "aa6131c7-cad0-47eb-d583-8d5d1d6cb8f5"
      },
      "source": [
        "cd drive/My\\ Drive/Algoscale"
      ],
      "execution_count": 2,
      "outputs": [
        {
          "output_type": "stream",
          "text": [
            "/content/drive/My Drive/Algoscale\n"
          ],
          "name": "stdout"
        }
      ]
    },
    {
      "cell_type": "markdown",
      "metadata": {
        "id": "smD3XagqPMCz",
        "colab_type": "text"
      },
      "source": [
        "## Load Libraries"
      ]
    },
    {
      "cell_type": "code",
      "metadata": {
        "id": "uEXoHWnCdBjF",
        "colab_type": "code",
        "colab": {
          "base_uri": "https://localhost:8080/",
          "height": 51
        },
        "outputId": "deaa082a-5d01-4058-dd67-975fa9b094d5"
      },
      "source": [
        "import nltk\n",
        "nltk.download('stopwords')\n",
        "\n",
        "import pandas as pd\n",
        "import seaborn as sns\n",
        "import numpy as np\n",
        "import xgboost as xgb\n",
        "from tqdm import tqdm\n",
        "from sklearn.svm import SVC\n",
        "from keras.models import Sequential\n",
        "from keras.layers.recurrent import LSTM, GRU\n",
        "from keras.layers.core import Dense, Activation, Dropout\n",
        "from keras.layers.embeddings import Embedding\n",
        "from keras.layers.normalization import BatchNormalization\n",
        "from keras.utils import np_utils\n",
        "from sklearn import preprocessing, decomposition, model_selection, metrics, pipeline\n",
        "from sklearn.model_selection import GridSearchCV\n",
        "from sklearn.feature_extraction.text import TfidfVectorizer, CountVectorizer\n",
        "from sklearn.decomposition import TruncatedSVD\n",
        "from sklearn.linear_model import LogisticRegression\n",
        "from sklearn.model_selection import train_test_split\n",
        "from sklearn.naive_bayes import MultinomialNB\n",
        "from keras.layers import GlobalMaxPooling1D, Conv1D, MaxPooling1D, Flatten, Bidirectional, SpatialDropout1D\n",
        "from keras.preprocessing import sequence, text\n",
        "from keras.callbacks import EarlyStopping\n",
        "from nltk import word_tokenize\n",
        "from nltk.corpus import stopwords\n",
        "stop_words = stopwords.words('english')"
      ],
      "execution_count": 378,
      "outputs": [
        {
          "output_type": "stream",
          "text": [
            "[nltk_data] Downloading package stopwords to /root/nltk_data...\n",
            "[nltk_data]   Package stopwords is already up-to-date!\n"
          ],
          "name": "stdout"
        }
      ]
    },
    {
      "cell_type": "markdown",
      "metadata": {
        "id": "oTghyv-JPR87",
        "colab_type": "text"
      },
      "source": [
        "## Load Dataset"
      ]
    },
    {
      "cell_type": "code",
      "metadata": {
        "id": "tEKKjsGQdHK2",
        "colab_type": "code",
        "colab": {}
      },
      "source": [
        "train = pd.read_csv('train.csv')"
      ],
      "execution_count": 379,
      "outputs": []
    },
    {
      "cell_type": "markdown",
      "metadata": {
        "id": "E3AGPU_5PUAx",
        "colab_type": "text"
      },
      "source": [
        "## Exploratory Data Analysis"
      ]
    },
    {
      "cell_type": "code",
      "metadata": {
        "id": "bTTFIKLydJ5T",
        "colab_type": "code",
        "colab": {
          "base_uri": "https://localhost:8080/",
          "height": 496
        },
        "outputId": "1e81520a-7733-4828-fafd-20d31ae02640"
      },
      "source": [
        "train.head()"
      ],
      "execution_count": 380,
      "outputs": [
        {
          "output_type": "execute_result",
          "data": {
            "text/html": [
              "<div>\n",
              "<style scoped>\n",
              "    .dataframe tbody tr th:only-of-type {\n",
              "        vertical-align: middle;\n",
              "    }\n",
              "\n",
              "    .dataframe tbody tr th {\n",
              "        vertical-align: top;\n",
              "    }\n",
              "\n",
              "    .dataframe thead th {\n",
              "        text-align: right;\n",
              "    }\n",
              "</style>\n",
              "<table border=\"1\" class=\"dataframe\">\n",
              "  <thead>\n",
              "    <tr style=\"text-align: right;\">\n",
              "      <th></th>\n",
              "      <th>index</th>\n",
              "      <th>beer/ABV</th>\n",
              "      <th>beer/beerId</th>\n",
              "      <th>beer/brewerId</th>\n",
              "      <th>beer/name</th>\n",
              "      <th>beer/style</th>\n",
              "      <th>review/appearance</th>\n",
              "      <th>review/aroma</th>\n",
              "      <th>review/overall</th>\n",
              "      <th>review/palate</th>\n",
              "      <th>review/taste</th>\n",
              "      <th>review/text</th>\n",
              "      <th>review/timeStruct</th>\n",
              "      <th>review/timeUnix</th>\n",
              "      <th>user/ageInSeconds</th>\n",
              "      <th>user/birthdayRaw</th>\n",
              "      <th>user/birthdayUnix</th>\n",
              "      <th>user/gender</th>\n",
              "      <th>user/profileName</th>\n",
              "    </tr>\n",
              "  </thead>\n",
              "  <tbody>\n",
              "    <tr>\n",
              "      <th>0</th>\n",
              "      <td>40163</td>\n",
              "      <td>5.0</td>\n",
              "      <td>46634</td>\n",
              "      <td>14338</td>\n",
              "      <td>Chiostro</td>\n",
              "      <td>Herbed / Spiced Beer</td>\n",
              "      <td>4.0</td>\n",
              "      <td>4.0</td>\n",
              "      <td>4.0</td>\n",
              "      <td>4.0</td>\n",
              "      <td>4.0</td>\n",
              "      <td>Pours a clouded gold with a thin white head. N...</td>\n",
              "      <td>{'min': 38, 'hour': 3, 'mday': 16, 'sec': 10, ...</td>\n",
              "      <td>1229398690</td>\n",
              "      <td>NaN</td>\n",
              "      <td>NaN</td>\n",
              "      <td>NaN</td>\n",
              "      <td>NaN</td>\n",
              "      <td>RblWthACoz</td>\n",
              "    </tr>\n",
              "    <tr>\n",
              "      <th>1</th>\n",
              "      <td>8135</td>\n",
              "      <td>11.0</td>\n",
              "      <td>3003</td>\n",
              "      <td>395</td>\n",
              "      <td>Bearded Pat's Barleywine</td>\n",
              "      <td>American Barleywine</td>\n",
              "      <td>4.0</td>\n",
              "      <td>3.5</td>\n",
              "      <td>3.5</td>\n",
              "      <td>3.5</td>\n",
              "      <td>3.0</td>\n",
              "      <td>12oz bottle into 8oz snifter.\\t\\tDeep ruby red...</td>\n",
              "      <td>{'min': 38, 'hour': 23, 'mday': 8, 'sec': 58, ...</td>\n",
              "      <td>1218238738</td>\n",
              "      <td>NaN</td>\n",
              "      <td>NaN</td>\n",
              "      <td>NaN</td>\n",
              "      <td>NaN</td>\n",
              "      <td>BeerSox</td>\n",
              "    </tr>\n",
              "    <tr>\n",
              "      <th>2</th>\n",
              "      <td>10529</td>\n",
              "      <td>4.7</td>\n",
              "      <td>961</td>\n",
              "      <td>365</td>\n",
              "      <td>Naughty Nellie's Ale</td>\n",
              "      <td>American Pale Ale (APA)</td>\n",
              "      <td>3.5</td>\n",
              "      <td>4.0</td>\n",
              "      <td>3.5</td>\n",
              "      <td>3.5</td>\n",
              "      <td>3.5</td>\n",
              "      <td>First enjoyed at the brewpub about 2 years ago...</td>\n",
              "      <td>{'min': 7, 'hour': 18, 'mday': 26, 'sec': 2, '...</td>\n",
              "      <td>1101492422</td>\n",
              "      <td>NaN</td>\n",
              "      <td>NaN</td>\n",
              "      <td>NaN</td>\n",
              "      <td>Male</td>\n",
              "      <td>mschofield</td>\n",
              "    </tr>\n",
              "    <tr>\n",
              "      <th>3</th>\n",
              "      <td>44610</td>\n",
              "      <td>4.4</td>\n",
              "      <td>429</td>\n",
              "      <td>1</td>\n",
              "      <td>Pilsner Urquell</td>\n",
              "      <td>Czech Pilsener</td>\n",
              "      <td>3.0</td>\n",
              "      <td>3.0</td>\n",
              "      <td>2.5</td>\n",
              "      <td>3.0</td>\n",
              "      <td>3.0</td>\n",
              "      <td>First thing I noticed after pouring from green...</td>\n",
              "      <td>{'min': 7, 'hour': 1, 'mday': 20, 'sec': 5, 'y...</td>\n",
              "      <td>1308532025</td>\n",
              "      <td>1.209827e+09</td>\n",
              "      <td>Aug 10, 1976</td>\n",
              "      <td>208508400.0</td>\n",
              "      <td>Male</td>\n",
              "      <td>molegar76</td>\n",
              "    </tr>\n",
              "    <tr>\n",
              "      <th>4</th>\n",
              "      <td>37062</td>\n",
              "      <td>4.4</td>\n",
              "      <td>4904</td>\n",
              "      <td>1417</td>\n",
              "      <td>Black Sheep Ale (Special)</td>\n",
              "      <td>English Pale Ale</td>\n",
              "      <td>4.0</td>\n",
              "      <td>3.0</td>\n",
              "      <td>3.0</td>\n",
              "      <td>3.5</td>\n",
              "      <td>2.5</td>\n",
              "      <td>A: pours an amber with a one finger head but o...</td>\n",
              "      <td>{'min': 51, 'hour': 6, 'mday': 12, 'sec': 48, ...</td>\n",
              "      <td>1299912708</td>\n",
              "      <td>NaN</td>\n",
              "      <td>NaN</td>\n",
              "      <td>NaN</td>\n",
              "      <td>NaN</td>\n",
              "      <td>Brewbro000</td>\n",
              "    </tr>\n",
              "  </tbody>\n",
              "</table>\n",
              "</div>"
            ],
            "text/plain": [
              "   index  beer/ABV  beer/beerId  ...  user/birthdayUnix user/gender user/profileName\n",
              "0  40163       5.0        46634  ...                NaN         NaN       RblWthACoz\n",
              "1   8135      11.0         3003  ...                NaN         NaN          BeerSox\n",
              "2  10529       4.7          961  ...                NaN        Male       mschofield\n",
              "3  44610       4.4          429  ...        208508400.0        Male        molegar76\n",
              "4  37062       4.4         4904  ...                NaN         NaN       Brewbro000\n",
              "\n",
              "[5 rows x 19 columns]"
            ]
          },
          "metadata": {
            "tags": []
          },
          "execution_count": 380
        }
      ]
    },
    {
      "cell_type": "code",
      "metadata": {
        "id": "QgHTY1upd3_D",
        "colab_type": "code",
        "colab": {
          "base_uri": "https://localhost:8080/",
          "height": 34
        },
        "outputId": "efad0b74-e156-410d-ff38-9424fde00545"
      },
      "source": [
        "train.shape"
      ],
      "execution_count": 381,
      "outputs": [
        {
          "output_type": "execute_result",
          "data": {
            "text/plain": [
              "(37500, 19)"
            ]
          },
          "metadata": {
            "tags": []
          },
          "execution_count": 381
        }
      ]
    },
    {
      "cell_type": "code",
      "metadata": {
        "id": "PJN-RUwDdo3U",
        "colab_type": "code",
        "colab": {
          "base_uri": "https://localhost:8080/",
          "height": 119
        },
        "outputId": "fd48b445-3f3a-4b68-fce7-827fd01c4189"
      },
      "source": [
        "train.columns"
      ],
      "execution_count": 382,
      "outputs": [
        {
          "output_type": "execute_result",
          "data": {
            "text/plain": [
              "Index(['index', 'beer/ABV', 'beer/beerId', 'beer/brewerId', 'beer/name',\n",
              "       'beer/style', 'review/appearance', 'review/aroma', 'review/overall',\n",
              "       'review/palate', 'review/taste', 'review/text', 'review/timeStruct',\n",
              "       'review/timeUnix', 'user/ageInSeconds', 'user/birthdayRaw',\n",
              "       'user/birthdayUnix', 'user/gender', 'user/profileName'],\n",
              "      dtype='object')"
            ]
          },
          "metadata": {
            "tags": []
          },
          "execution_count": 382
        }
      ]
    },
    {
      "cell_type": "code",
      "metadata": {
        "id": "kVM3RSWbdNrv",
        "colab_type": "code",
        "colab": {}
      },
      "source": [
        "features = train[['index', 'beer/ABV', 'beer/beerId', 'beer/brewerId', 'beer/name',\n",
        "       'beer/style', 'review/appearance', 'review/aroma', 'review/overall',\n",
        "       'review/palate', 'review/taste', 'review/text', 'review/timeStruct',\n",
        "       'review/timeUnix', 'user/ageInSeconds', 'user/birthdayRaw',\n",
        "       'user/birthdayUnix', 'user/gender', 'user/profileName']]"
      ],
      "execution_count": 383,
      "outputs": []
    },
    {
      "cell_type": "code",
      "metadata": {
        "id": "lIDyTD4mdvLf",
        "colab_type": "code",
        "colab": {}
      },
      "source": [
        "label = train[['review/overall']]"
      ],
      "execution_count": 384,
      "outputs": []
    },
    {
      "cell_type": "code",
      "metadata": {
        "id": "tmvaYAj6dz1T",
        "colab_type": "code",
        "colab": {
          "base_uri": "https://localhost:8080/",
          "height": 34
        },
        "outputId": "1200a5a9-d25d-495a-b426-19f6aca03ab3"
      },
      "source": [
        "features.shape"
      ],
      "execution_count": 385,
      "outputs": [
        {
          "output_type": "execute_result",
          "data": {
            "text/plain": [
              "(37500, 19)"
            ]
          },
          "metadata": {
            "tags": []
          },
          "execution_count": 385
        }
      ]
    },
    {
      "cell_type": "code",
      "metadata": {
        "id": "CLsqfG7Ed1iO",
        "colab_type": "code",
        "colab": {
          "base_uri": "https://localhost:8080/",
          "height": 34
        },
        "outputId": "7fd21de8-4ce6-43eb-e5f7-d0cdfabae5ca"
      },
      "source": [
        "label.shape"
      ],
      "execution_count": 386,
      "outputs": [
        {
          "output_type": "execute_result",
          "data": {
            "text/plain": [
              "(37500, 1)"
            ]
          },
          "metadata": {
            "tags": []
          },
          "execution_count": 386
        }
      ]
    },
    {
      "cell_type": "code",
      "metadata": {
        "id": "NXNWtibHd2th",
        "colab_type": "code",
        "colab": {
          "base_uri": "https://localhost:8080/",
          "height": 466
        },
        "outputId": "90dc6e8d-7f8a-4b77-ccd5-b02c3ba59b5a"
      },
      "source": [
        "#Imbalanced Data\n",
        "ax = sns.countplot(x=label['review/overall'], data=label)\n",
        "print(label['review/overall'].value_counts())"
      ],
      "execution_count": 387,
      "outputs": [
        {
          "output_type": "stream",
          "text": [
            "4.0    13868\n",
            "4.5     8666\n",
            "3.5     6551\n",
            "3.0     3319\n",
            "5.0     2671\n",
            "2.5     1193\n",
            "2.0      807\n",
            "1.5      248\n",
            "1.0      176\n",
            "0.0        1\n",
            "Name: review/overall, dtype: int64\n"
          ],
          "name": "stdout"
        },
        {
          "output_type": "display_data",
          "data": {
            "image/png": "[encoded data removed]",
            "text/plain": [
              "<Figure size 432x288 with 1 Axes>"
            ]
          },
          "metadata": {
            "tags": [],
            "needs_background": "light"
          }
        }
      ]
    },
    {
      "cell_type": "markdown",
      "metadata": {
        "id": "C65Zg2_9efgw",
        "colab_type": "text"
      },
      "source": [
        "- Imbalanced Dataset\n",
        "- Maximum rating : 4\n",
        "- Minimum rating : 0"
      ]
    },
    {
      "cell_type": "code",
      "metadata": {
        "id": "-qPXw5QgeLob",
        "colab_type": "code",
        "colab": {
          "base_uri": "https://localhost:8080/",
          "height": 459
        },
        "outputId": "8d1d67f0-0d50-4149-895b-5d8d61127661"
      },
      "source": [
        "features.info()"
      ],
      "execution_count": 388,
      "outputs": [
        {
          "output_type": "stream",
          "text": [
            "<class 'pandas.core.frame.DataFrame'>\n",
            "RangeIndex: 37500 entries, 0 to 37499\n",
            "Data columns (total 19 columns):\n",
            " #   Column             Non-Null Count  Dtype  \n",
            "---  ------             --------------  -----  \n",
            " 0   index              37500 non-null  int64  \n",
            " 1   beer/ABV           37500 non-null  float64\n",
            " 2   beer/beerId        37500 non-null  int64  \n",
            " 3   beer/brewerId      37500 non-null  int64  \n",
            " 4   beer/name          37500 non-null  object \n",
            " 5   beer/style         37500 non-null  object \n",
            " 6   review/appearance  37500 non-null  float64\n",
            " 7   review/aroma       37500 non-null  float64\n",
            " 8   review/overall     37500 non-null  float64\n",
            " 9   review/palate      37500 non-null  float64\n",
            " 10  review/taste       37500 non-null  float64\n",
            " 11  review/text        37490 non-null  object \n",
            " 12  review/timeStruct  37500 non-null  object \n",
            " 13  review/timeUnix    37500 non-null  int64  \n",
            " 14  user/ageInSeconds  7856 non-null   float64\n",
            " 15  user/birthdayRaw   7856 non-null   object \n",
            " 16  user/birthdayUnix  7856 non-null   float64\n",
            " 17  user/gender        15314 non-null  object \n",
            " 18  user/profileName   37495 non-null  object \n",
            "dtypes: float64(8), int64(4), object(7)\n",
            "memory usage: 5.4+ MB\n"
          ],
          "name": "stdout"
        }
      ]
    },
    {
      "cell_type": "markdown",
      "metadata": {
        "id": "36tYe7dAezt9",
        "colab_type": "text"
      },
      "source": [
        "#### Columns having null values : \n",
        "- review/text\n",
        "- user/ageInSeconds,\n",
        "- user/birthdayRaw,\n",
        "- user/birthdayUnix,\n",
        "- user/gender,\n",
        "- user/profileName     "
      ]
    },
    {
      "cell_type": "code",
      "metadata": {
        "id": "M06WAYA1uk4g",
        "colab_type": "code",
        "colab": {
          "base_uri": "https://localhost:8080/",
          "height": 357
        },
        "outputId": "94ab5eed-15b7-43b4-e962-c9199db38b20"
      },
      "source": [
        "features.isnull().sum()"
      ],
      "execution_count": 389,
      "outputs": [
        {
          "output_type": "execute_result",
          "data": {
            "text/plain": [
              "index                    0\n",
              "beer/ABV                 0\n",
              "beer/beerId              0\n",
              "beer/brewerId            0\n",
              "beer/name                0\n",
              "beer/style               0\n",
              "review/appearance        0\n",
              "review/aroma             0\n",
              "review/overall           0\n",
              "review/palate            0\n",
              "review/taste             0\n",
              "review/text             10\n",
              "review/timeStruct        0\n",
              "review/timeUnix          0\n",
              "user/ageInSeconds    29644\n",
              "user/birthdayRaw     29644\n",
              "user/birthdayUnix    29644\n",
              "user/gender          22186\n",
              "user/profileName         5\n",
              "dtype: int64"
            ]
          },
          "metadata": {
            "tags": []
          },
          "execution_count": 389
        }
      ]
    },
    {
      "cell_type": "markdown",
      "metadata": {
        "id": "rcR-SYWuPdvr",
        "colab_type": "text"
      },
      "source": [
        "## Handling nulls"
      ]
    },
    {
      "cell_type": "code",
      "metadata": {
        "id": "IaWCVihWwgii",
        "colab_type": "code",
        "colab": {}
      },
      "source": [
        "from datetime import timezone\n",
        "# Imputing with mean values of birthdays in unix timestamp\n",
        "features['user/birthdayRaw'] = pd.to_datetime(features['user/birthdayRaw'],errors='coerce')\n",
        "df = features[features['user/birthdayRaw'].notnull()]\n",
        "\n",
        "birthDays = []\n",
        "for i in df['user/birthdayRaw']:\n",
        "  birthDays.append(time.mktime(i.timetuple()))\n",
        "  \n",
        "def Average(lst): \n",
        "    return sum(lst) / len(lst) \n",
        "mean =  Average(birthDays)"
      ],
      "execution_count": 390,
      "outputs": []
    },
    {
      "cell_type": "code",
      "metadata": {
        "id": "XkEdnsVbwZpO",
        "colab_type": "code",
        "colab": {}
      },
      "source": [
        "# Replace empty/null values with median since i am taking age groups to be near  and robust from outliers\n",
        "features['user/ageInSeconds'].fillna(features['user/ageInSeconds'].median(), inplace=True) \n",
        "features['user/birthdayRaw'].fillna(mean, inplace=True) \n",
        "features['user/birthdayUnix'].fillna(features['user/birthdayUnix'].median(), inplace=True) \n",
        "features['user/gender'].fillna('missing', inplace=True) \n"
      ],
      "execution_count": 391,
      "outputs": []
    },
    {
      "cell_type": "code",
      "metadata": {
        "id": "ouIcSouC_4Bf",
        "colab_type": "code",
        "colab": {}
      },
      "source": [
        "features = features.dropna()"
      ],
      "execution_count": 392,
      "outputs": []
    },
    {
      "cell_type": "code",
      "metadata": {
        "id": "MMSft2uzAHQ-",
        "colab_type": "code",
        "colab": {
          "base_uri": "https://localhost:8080/",
          "height": 357
        },
        "outputId": "72c4dde2-fcb0-460d-80e7-e0929c672973"
      },
      "source": [
        "features.isnull().sum()"
      ],
      "execution_count": 393,
      "outputs": [
        {
          "output_type": "execute_result",
          "data": {
            "text/plain": [
              "index                0\n",
              "beer/ABV             0\n",
              "beer/beerId          0\n",
              "beer/brewerId        0\n",
              "beer/name            0\n",
              "beer/style           0\n",
              "review/appearance    0\n",
              "review/aroma         0\n",
              "review/overall       0\n",
              "review/palate        0\n",
              "review/taste         0\n",
              "review/text          0\n",
              "review/timeStruct    0\n",
              "review/timeUnix      0\n",
              "user/ageInSeconds    0\n",
              "user/birthdayRaw     0\n",
              "user/birthdayUnix    0\n",
              "user/gender          0\n",
              "user/profileName     0\n",
              "dtype: int64"
            ]
          },
          "metadata": {
            "tags": []
          },
          "execution_count": 393
        }
      ]
    },
    {
      "cell_type": "code",
      "metadata": {
        "id": "mSJX9BE5AXGl",
        "colab_type": "code",
        "colab": {
          "base_uri": "https://localhost:8080/",
          "height": 496
        },
        "outputId": "2e003732-05f6-48ca-f130-e803e51c7622"
      },
      "source": [
        "features.head()"
      ],
      "execution_count": 394,
      "outputs": [
        {
          "output_type": "execute_result",
          "data": {
            "text/html": [
              "<div>\n",
              "<style scoped>\n",
              "    .dataframe tbody tr th:only-of-type {\n",
              "        vertical-align: middle;\n",
              "    }\n",
              "\n",
              "    .dataframe tbody tr th {\n",
              "        vertical-align: top;\n",
              "    }\n",
              "\n",
              "    .dataframe thead th {\n",
              "        text-align: right;\n",
              "    }\n",
              "</style>\n",
              "<table border=\"1\" class=\"dataframe\">\n",
              "  <thead>\n",
              "    <tr style=\"text-align: right;\">\n",
              "      <th></th>\n",
              "      <th>index</th>\n",
              "      <th>beer/ABV</th>\n",
              "      <th>beer/beerId</th>\n",
              "      <th>beer/brewerId</th>\n",
              "      <th>beer/name</th>\n",
              "      <th>beer/style</th>\n",
              "      <th>review/appearance</th>\n",
              "      <th>review/aroma</th>\n",
              "      <th>review/overall</th>\n",
              "      <th>review/palate</th>\n",
              "      <th>review/taste</th>\n",
              "      <th>review/text</th>\n",
              "      <th>review/timeStruct</th>\n",
              "      <th>review/timeUnix</th>\n",
              "      <th>user/ageInSeconds</th>\n",
              "      <th>user/birthdayRaw</th>\n",
              "      <th>user/birthdayUnix</th>\n",
              "      <th>user/gender</th>\n",
              "      <th>user/profileName</th>\n",
              "    </tr>\n",
              "  </thead>\n",
              "  <tbody>\n",
              "    <tr>\n",
              "      <th>0</th>\n",
              "      <td>40163</td>\n",
              "      <td>5.0</td>\n",
              "      <td>46634</td>\n",
              "      <td>14338</td>\n",
              "      <td>Chiostro</td>\n",
              "      <td>Herbed / Spiced Beer</td>\n",
              "      <td>4.0</td>\n",
              "      <td>4.0</td>\n",
              "      <td>4.0</td>\n",
              "      <td>4.0</td>\n",
              "      <td>4.0</td>\n",
              "      <td>Pours a clouded gold with a thin white head. N...</td>\n",
              "      <td>{'min': 38, 'hour': 3, 'mday': 16, 'sec': 10, ...</td>\n",
              "      <td>1229398690</td>\n",
              "      <td>1.100009e+09</td>\n",
              "      <td>2.41603e+08</td>\n",
              "      <td>318326400.0</td>\n",
              "      <td>missing</td>\n",
              "      <td>RblWthACoz</td>\n",
              "    </tr>\n",
              "    <tr>\n",
              "      <th>1</th>\n",
              "      <td>8135</td>\n",
              "      <td>11.0</td>\n",
              "      <td>3003</td>\n",
              "      <td>395</td>\n",
              "      <td>Bearded Pat's Barleywine</td>\n",
              "      <td>American Barleywine</td>\n",
              "      <td>4.0</td>\n",
              "      <td>3.5</td>\n",
              "      <td>3.5</td>\n",
              "      <td>3.5</td>\n",
              "      <td>3.0</td>\n",
              "      <td>12oz bottle into 8oz snifter.\\t\\tDeep ruby red...</td>\n",
              "      <td>{'min': 38, 'hour': 23, 'mday': 8, 'sec': 58, ...</td>\n",
              "      <td>1218238738</td>\n",
              "      <td>1.100009e+09</td>\n",
              "      <td>2.41603e+08</td>\n",
              "      <td>318326400.0</td>\n",
              "      <td>missing</td>\n",
              "      <td>BeerSox</td>\n",
              "    </tr>\n",
              "    <tr>\n",
              "      <th>2</th>\n",
              "      <td>10529</td>\n",
              "      <td>4.7</td>\n",
              "      <td>961</td>\n",
              "      <td>365</td>\n",
              "      <td>Naughty Nellie's Ale</td>\n",
              "      <td>American Pale Ale (APA)</td>\n",
              "      <td>3.5</td>\n",
              "      <td>4.0</td>\n",
              "      <td>3.5</td>\n",
              "      <td>3.5</td>\n",
              "      <td>3.5</td>\n",
              "      <td>First enjoyed at the brewpub about 2 years ago...</td>\n",
              "      <td>{'min': 7, 'hour': 18, 'mday': 26, 'sec': 2, '...</td>\n",
              "      <td>1101492422</td>\n",
              "      <td>1.100009e+09</td>\n",
              "      <td>2.41603e+08</td>\n",
              "      <td>318326400.0</td>\n",
              "      <td>Male</td>\n",
              "      <td>mschofield</td>\n",
              "    </tr>\n",
              "    <tr>\n",
              "      <th>3</th>\n",
              "      <td>44610</td>\n",
              "      <td>4.4</td>\n",
              "      <td>429</td>\n",
              "      <td>1</td>\n",
              "      <td>Pilsner Urquell</td>\n",
              "      <td>Czech Pilsener</td>\n",
              "      <td>3.0</td>\n",
              "      <td>3.0</td>\n",
              "      <td>2.5</td>\n",
              "      <td>3.0</td>\n",
              "      <td>3.0</td>\n",
              "      <td>First thing I noticed after pouring from green...</td>\n",
              "      <td>{'min': 7, 'hour': 1, 'mday': 20, 'sec': 5, 'y...</td>\n",
              "      <td>1308532025</td>\n",
              "      <td>1.209827e+09</td>\n",
              "      <td>1976-08-10 00:00:00</td>\n",
              "      <td>208508400.0</td>\n",
              "      <td>Male</td>\n",
              "      <td>molegar76</td>\n",
              "    </tr>\n",
              "    <tr>\n",
              "      <th>4</th>\n",
              "      <td>37062</td>\n",
              "      <td>4.4</td>\n",
              "      <td>4904</td>\n",
              "      <td>1417</td>\n",
              "      <td>Black Sheep Ale (Special)</td>\n",
              "      <td>English Pale Ale</td>\n",
              "      <td>4.0</td>\n",
              "      <td>3.0</td>\n",
              "      <td>3.0</td>\n",
              "      <td>3.5</td>\n",
              "      <td>2.5</td>\n",
              "      <td>A: pours an amber with a one finger head but o...</td>\n",
              "      <td>{'min': 51, 'hour': 6, 'mday': 12, 'sec': 48, ...</td>\n",
              "      <td>1299912708</td>\n",
              "      <td>1.100009e+09</td>\n",
              "      <td>2.41603e+08</td>\n",
              "      <td>318326400.0</td>\n",
              "      <td>missing</td>\n",
              "      <td>Brewbro000</td>\n",
              "    </tr>\n",
              "  </tbody>\n",
              "</table>\n",
              "</div>"
            ],
            "text/plain": [
              "   index  beer/ABV  beer/beerId  ...  user/birthdayUnix user/gender user/profileName\n",
              "0  40163       5.0        46634  ...        318326400.0     missing       RblWthACoz\n",
              "1   8135      11.0         3003  ...        318326400.0     missing          BeerSox\n",
              "2  10529       4.7          961  ...        318326400.0        Male       mschofield\n",
              "3  44610       4.4          429  ...        208508400.0        Male        molegar76\n",
              "4  37062       4.4         4904  ...        318326400.0     missing       Brewbro000\n",
              "\n",
              "[5 rows x 19 columns]"
            ]
          },
          "metadata": {
            "tags": []
          },
          "execution_count": 394
        }
      ]
    },
    {
      "cell_type": "code",
      "metadata": {
        "id": "ITOtUd6qBWaX",
        "colab_type": "code",
        "colab": {}
      },
      "source": [
        "features=features.reset_index()"
      ],
      "execution_count": 395,
      "outputs": []
    },
    {
      "cell_type": "markdown",
      "metadata": {
        "id": "K_Dub9t0mn6Q",
        "colab_type": "text"
      },
      "source": [
        "# Data Preprocessing:\n",
        "Q) How can you use \"beer/name\", \"beer/style\" and \"review/text\" as features to predict the overall rating of the beer ?"
      ]
    },
    {
      "cell_type": "code",
      "metadata": {
        "id": "_mU23YuWmqn4",
        "colab_type": "code",
        "colab": {}
      },
      "source": [
        "### Dataset Preprocessing \n",
        "from nltk.stem.porter import PorterStemmer\n",
        "import re\n",
        "ps = PorterStemmer()\n",
        "\n",
        "def preprocessor(dataset,col):\n",
        "  corpus = []\n",
        "  for i in range(0, len(dataset)):\n",
        "      review = re.sub('[^a-zA-Z]', ' ', dataset[col][i])\n",
        "      review = review.lower()\n",
        "      review = review.split()\n",
        "      review = [ps.stem(word) for word in review if not word in stopwords.words('english')]\n",
        "      review = ' '.join(review)\n",
        "      corpus.append(review)\n",
        "  return corpus"
      ],
      "execution_count": 396,
      "outputs": []
    },
    {
      "cell_type": "code",
      "metadata": {
        "id": "cj3M3R-2nJej",
        "colab_type": "code",
        "colab": {}
      },
      "source": [
        "beerNames = preprocessor(features,'beer/name') ## Preprocessing Beer Names\n",
        "features['clean_beerNames'] = beerNames\n",
        "features.drop('beer/name',axis=1,inplace=True)"
      ],
      "execution_count": 397,
      "outputs": []
    },
    {
      "cell_type": "code",
      "metadata": {
        "id": "u9M-hHq4nmO9",
        "colab_type": "code",
        "colab": {}
      },
      "source": [
        "beerTypes = preprocessor(features,'beer/style') ## Preprocessing Beer types\n",
        "features['clean_beerTypes'] = beerTypes\n",
        "features.drop('beer/style',axis=1,inplace=True)"
      ],
      "execution_count": 398,
      "outputs": []
    },
    {
      "cell_type": "code",
      "metadata": {
        "id": "z5XdHlQeeu2-",
        "colab_type": "code",
        "colab": {
          "base_uri": "https://localhost:8080/",
          "height": 323
        },
        "outputId": "bda74459-4731-4377-870e-9269d4d22722"
      },
      "source": [
        "#View the top types of beer in our dataset whose frequency is greater than 500\n",
        "\n",
        "beernames = features['clean_beerNames'].value_counts()\n",
        "print('Number of beer names are : {0}'.format(len(beernames)))\n",
        "print(beernames[beernames > 500])"
      ],
      "execution_count": 399,
      "outputs": [
        {
          "output_type": "stream",
          "text": [
            "Number of beer names are : 1671\n",
            "founder breakfast stout                1882\n",
            "founder kb kentucki breakfast stout    1438\n",
            "founder centenni ipa                   1063\n",
            "founder red rye pa                     1051\n",
            "founder dirti bastard                   983\n",
            "pilsner urquel                          948\n",
            "founder doubl troubl                    857\n",
            "founder imperi stout                    805\n",
            "founder devil dancer                    799\n",
            "founder backwood bastard                778\n",
            "founder porter                          675\n",
            "founder nemesi                          670\n",
            "aecht schlenkerla rauchbier rzen        665\n",
            "b r crusher oatmeal imperi stout        635\n",
            "founder curmudgeon old ale              574\n",
            "stoudt doubl ipa india pale ale         538\n",
            "Name: clean_beerNames, dtype: int64\n"
          ],
          "name": "stdout"
        }
      ]
    },
    {
      "cell_type": "code",
      "metadata": {
        "id": "5yLYiCmCr9_d",
        "colab_type": "code",
        "colab": {
          "base_uri": "https://localhost:8080/",
          "height": 54
        },
        "outputId": "a5b2b3e7-16a5-423a-bd4f-71b5daab1561"
      },
      "source": [
        "beerNameList = []\n",
        "for i in range(16):\n",
        "  beerNameList.append(beernames.index[i])\n",
        "print(beerNameList)"
      ],
      "execution_count": 400,
      "outputs": [
        {
          "output_type": "stream",
          "text": [
            "['founder breakfast stout', 'founder kb kentucki breakfast stout', 'founder centenni ipa', 'founder red rye pa', 'founder dirti bastard', 'pilsner urquel', 'founder doubl troubl', 'founder imperi stout', 'founder devil dancer', 'founder backwood bastard', 'founder porter', 'founder nemesi', 'aecht schlenkerla rauchbier rzen', 'b r crusher oatmeal imperi stout', 'founder curmudgeon old ale', 'stoudt doubl ipa india pale ale']\n"
          ],
          "name": "stdout"
        }
      ]
    },
    {
      "cell_type": "code",
      "metadata": {
        "id": "KhcFWUYWpDfZ",
        "colab_type": "code",
        "colab": {
          "base_uri": "https://localhost:8080/",
          "height": 340
        },
        "outputId": "63e7cbcd-f4a6-4a15-eb8b-fa6896f50258"
      },
      "source": [
        "beertype = features['clean_beerTypes'].value_counts()\n",
        "print('Number of beer types are : {0}'.format(len(beertype)))\n",
        "print(beertype[beertype > 500])"
      ],
      "execution_count": 401,
      "outputs": [
        {
          "output_type": "stream",
          "text": [
            "Number of beer types are : 95\n",
            "american doubl imperi stout        4490\n",
            "american ipa                       3048\n",
            "american doubl imperi ipa          2871\n",
            "scotch ale wee heavi               2133\n",
            "russian imperi stout               2030\n",
            "american pale ale apa              1711\n",
            "american porter                    1687\n",
            "rauchbier                          1462\n",
            "rye beer                           1355\n",
            "czech pilsen                       1130\n",
            "fruit veget beer                   1021\n",
            "english pale ale                    971\n",
            "old ale                             783\n",
            "doppelbock                          669\n",
            "american barleywin                  634\n",
            "euro pale lager                     522\n",
            "extra special strong bitter esb     505\n",
            "Name: clean_beerTypes, dtype: int64\n"
          ],
          "name": "stdout"
        }
      ]
    },
    {
      "cell_type": "code",
      "metadata": {
        "id": "UjW1XDz2shY4",
        "colab_type": "code",
        "colab": {
          "base_uri": "https://localhost:8080/",
          "height": 54
        },
        "outputId": "ed9fc3cd-2f4e-45f7-8f95-4f7984f66f7d"
      },
      "source": [
        "beerTypeList = []\n",
        "for i in range(17):\n",
        "  beerTypeList.append(beertype.index[i])\n",
        "print(beerTypeList)"
      ],
      "execution_count": 402,
      "outputs": [
        {
          "output_type": "stream",
          "text": [
            "['american doubl imperi stout', 'american ipa', 'american doubl imperi ipa', 'scotch ale wee heavi', 'russian imperi stout', 'american pale ale apa', 'american porter', 'rauchbier', 'rye beer', 'czech pilsen', 'fruit veget beer', 'english pale ale', 'old ale', 'doppelbock', 'american barleywin', 'euro pale lager', 'extra special strong bitter esb']\n"
          ],
          "name": "stdout"
        }
      ]
    },
    {
      "cell_type": "code",
      "metadata": {
        "id": "DTW31wYlgzs_",
        "colab_type": "code",
        "colab": {}
      },
      "source": [
        "#Recode the beer names keeping only top beer names (all others at NA)\n",
        "from pandas.api.types import CategoricalDtype\n",
        "features.clean_beerNames= features.clean_beerNames.astype(CategoricalDtype(categories=beerNameList))"
      ],
      "execution_count": 403,
      "outputs": []
    },
    {
      "cell_type": "code",
      "metadata": {
        "id": "zDxOgyrPtAiR",
        "colab_type": "code",
        "colab": {}
      },
      "source": [
        "#Recode the beer types keeping only top beer types (all others at NA)\n",
        "features.clean_beerTypes= features.clean_beerTypes.astype(CategoricalDtype(categories=beerTypeList))"
      ],
      "execution_count": 404,
      "outputs": []
    },
    {
      "cell_type": "code",
      "metadata": {
        "id": "pd2MCl3zjxCN",
        "colab_type": "code",
        "colab": {
          "base_uri": "https://localhost:8080/",
          "height": 476
        },
        "outputId": "683ee4e6-d42c-4ccf-973c-9f12940c8583"
      },
      "source": [
        "features.info() ## Introduced NA into clean_beerNames and clean_beerTypes "
      ],
      "execution_count": 405,
      "outputs": [
        {
          "output_type": "stream",
          "text": [
            "<class 'pandas.core.frame.DataFrame'>\n",
            "RangeIndex: 37485 entries, 0 to 37484\n",
            "Data columns (total 20 columns):\n",
            " #   Column             Non-Null Count  Dtype   \n",
            "---  ------             --------------  -----   \n",
            " 0   level_0            37485 non-null  int64   \n",
            " 1   index              37485 non-null  int64   \n",
            " 2   beer/ABV           37485 non-null  float64 \n",
            " 3   beer/beerId        37485 non-null  int64   \n",
            " 4   beer/brewerId      37485 non-null  int64   \n",
            " 5   review/appearance  37485 non-null  float64 \n",
            " 6   review/aroma       37485 non-null  float64 \n",
            " 7   review/overall     37485 non-null  float64 \n",
            " 8   review/palate      37485 non-null  float64 \n",
            " 9   review/taste       37485 non-null  float64 \n",
            " 10  review/text        37485 non-null  object  \n",
            " 11  review/timeStruct  37485 non-null  object  \n",
            " 12  review/timeUnix    37485 non-null  int64   \n",
            " 13  user/ageInSeconds  37485 non-null  float64 \n",
            " 14  user/birthdayRaw   37485 non-null  object  \n",
            " 15  user/birthdayUnix  37485 non-null  float64 \n",
            " 16  user/gender        37485 non-null  object  \n",
            " 17  user/profileName   37485 non-null  object  \n",
            " 18  clean_beerNames    14361 non-null  category\n",
            " 19  clean_beerTypes    27022 non-null  category\n",
            "dtypes: category(2), float64(8), int64(5), object(5)\n",
            "memory usage: 5.2+ MB\n"
          ],
          "name": "stdout"
        }
      ]
    },
    {
      "cell_type": "code",
      "metadata": {
        "id": "os5RVsDvq6Dl",
        "colab_type": "code",
        "colab": {}
      },
      "source": [
        "beertext = preprocessor(features,'review/text') ## Preprocessing Beer text\n",
        "features['clean_beerText'] = beertext\n",
        "features.drop('review/text',axis=1,inplace=True)"
      ],
      "execution_count": 322,
      "outputs": []
    },
    {
      "cell_type": "code",
      "metadata": {
        "id": "34T6Ce4tug4v",
        "colab_type": "code",
        "colab": {
          "base_uri": "https://localhost:8080/",
          "height": 374
        },
        "outputId": "9905e372-29b2-4591-8bbd-262b4abd2a85"
      },
      "source": [
        "features.isnull().sum()"
      ],
      "execution_count": 406,
      "outputs": [
        {
          "output_type": "execute_result",
          "data": {
            "text/plain": [
              "level_0                  0\n",
              "index                    0\n",
              "beer/ABV                 0\n",
              "beer/beerId              0\n",
              "beer/brewerId            0\n",
              "review/appearance        0\n",
              "review/aroma             0\n",
              "review/overall           0\n",
              "review/palate            0\n",
              "review/taste             0\n",
              "review/text              0\n",
              "review/timeStruct        0\n",
              "review/timeUnix          0\n",
              "user/ageInSeconds        0\n",
              "user/birthdayRaw         0\n",
              "user/birthdayUnix        0\n",
              "user/gender              0\n",
              "user/profileName         0\n",
              "clean_beerNames      23124\n",
              "clean_beerTypes      10463\n",
              "dtype: int64"
            ]
          },
          "metadata": {
            "tags": []
          },
          "execution_count": 406
        }
      ]
    },
    {
      "cell_type": "code",
      "metadata": {
        "id": "GHSE-82cL7yB",
        "colab_type": "code",
        "colab": {
          "base_uri": "https://localhost:8080/",
          "height": 221
        },
        "outputId": "bb935e2d-cf40-44e4-dacb-9632527fa60b"
      },
      "source": [
        "features['beer/beerId'].value_counts()"
      ],
      "execution_count": 408,
      "outputs": [
        {
          "output_type": "execute_result",
          "data": {
            "text/plain": [
              "11757    1882\n",
              "19960    1438\n",
              "5441     1063\n",
              "16074    1051\n",
              "7463      983\n",
              "         ... \n",
              "63735       1\n",
              "26853       1\n",
              "42273       1\n",
              "41116       1\n",
              "67406       1\n",
              "Name: beer/beerId, Length: 1731, dtype: int64"
            ]
          },
          "metadata": {
            "tags": []
          },
          "execution_count": 408
        }
      ]
    },
    {
      "cell_type": "code",
      "metadata": {
        "id": "RK5MqmKXMgK9",
        "colab_type": "code",
        "colab": {
          "base_uri": "https://localhost:8080/",
          "height": 306
        },
        "outputId": "6990e66a-b0f5-4868-84af-76b9ca00a2a7"
      },
      "source": [
        "beerId = features['beer/beerId'].value_counts()\n",
        "print('Number of beer ids are : {0}'.format(len(beerId)))\n",
        "print(beerId[beerId > 500])"
      ],
      "execution_count": 409,
      "outputs": [
        {
          "output_type": "stream",
          "text": [
            "Number of beer ids are : 1731\n",
            "11757    1882\n",
            "19960    1438\n",
            "5441     1063\n",
            "16074    1051\n",
            "7463      983\n",
            "429       946\n",
            "34146     857\n",
            "21822     805\n",
            "17538     799\n",
            "35036     778\n",
            "7348      675\n",
            "727       665\n",
            "33644     635\n",
            "24905     574\n",
            "20470     538\n",
            "Name: beer/beerId, dtype: int64\n"
          ],
          "name": "stdout"
        }
      ]
    },
    {
      "cell_type": "code",
      "metadata": {
        "id": "Vhkpq9jYMzjq",
        "colab_type": "code",
        "colab": {
          "base_uri": "https://localhost:8080/",
          "height": 34
        },
        "outputId": "6b90526e-1a73-4e49-e34e-c64f8f477322"
      },
      "source": [
        "beerIdList = []\n",
        "for i in range(15):\n",
        "  beerIdList.append(beerId.index[i])\n",
        "print(beerIdList)"
      ],
      "execution_count": 410,
      "outputs": [
        {
          "output_type": "stream",
          "text": [
            "[11757, 19960, 5441, 16074, 7463, 429, 34146, 21822, 17538, 35036, 7348, 727, 33644, 24905, 20470]\n"
          ],
          "name": "stdout"
        }
      ]
    },
    {
      "cell_type": "code",
      "metadata": {
        "id": "-RgMvFAENDRp",
        "colab_type": "code",
        "colab": {}
      },
      "source": [
        "#Recode the beer names keeping only top beer names (all others at NA)\n",
        "from pandas.api.types import CategoricalDtype\n",
        "features['beer/beerId']= features['beer/beerId'].astype(CategoricalDtype(categories=beerIdList))"
      ],
      "execution_count": 411,
      "outputs": []
    },
    {
      "cell_type": "code",
      "metadata": {
        "id": "C7htnMblMHIO",
        "colab_type": "code",
        "colab": {
          "base_uri": "https://localhost:8080/",
          "height": 221
        },
        "outputId": "fc7fa568-8799-4c62-fa2f-1b56cfa0e266"
      },
      "source": [
        "features['beer/brewerId'].value_counts()"
      ],
      "execution_count": 412,
      "outputs": [
        {
          "output_type": "execute_result",
          "data": {
            "text/plain": [
              "1199     14968\n",
              "394       2936\n",
              "14879     2349\n",
              "263       1809\n",
              "3268      1277\n",
              "         ...  \n",
              "27133        1\n",
              "15607        1\n",
              "3207         1\n",
              "3408         1\n",
              "17783        1\n",
              "Name: beer/brewerId, Length: 212, dtype: int64"
            ]
          },
          "metadata": {
            "tags": []
          },
          "execution_count": 412
        }
      ]
    },
    {
      "cell_type": "code",
      "metadata": {
        "id": "ZpC8KR21NVX3",
        "colab_type": "code",
        "colab": {
          "base_uri": "https://localhost:8080/",
          "height": 272
        },
        "outputId": "97a42585-a04c-401e-c9a4-c6eadf6562d1"
      },
      "source": [
        "brewerId = features['beer/brewerId'].value_counts()\n",
        "print('Number of brewer ids are : {0}'.format(len(brewerId)))\n",
        "print(brewerId[brewerId > 500])"
      ],
      "execution_count": 413,
      "outputs": [
        {
          "output_type": "stream",
          "text": [
            "Number of brewer ids are : 212\n",
            "1199     14968\n",
            "394       2936\n",
            "14879     2349\n",
            "263       1809\n",
            "3268      1277\n",
            "395       1225\n",
            "365       1069\n",
            "1         1016\n",
            "1417       908\n",
            "14         834\n",
            "568        785\n",
            "1075       666\n",
            "1315       601\n",
            "Name: beer/brewerId, dtype: int64\n"
          ],
          "name": "stdout"
        }
      ]
    },
    {
      "cell_type": "code",
      "metadata": {
        "id": "x9SsEELpNVcj",
        "colab_type": "code",
        "colab": {
          "base_uri": "https://localhost:8080/",
          "height": 34
        },
        "outputId": "7a43db9a-1dd2-478b-ac5f-0e07f46080a3"
      },
      "source": [
        "brewerIdList = []\n",
        "for i in range(15):\n",
        "  brewerIdList.append(brewerId.index[i])\n",
        "print(brewerIdList)"
      ],
      "execution_count": 414,
      "outputs": [
        {
          "output_type": "stream",
          "text": [
            "[1199, 394, 14879, 263, 3268, 395, 365, 1, 1417, 14, 568, 1075, 1315, 9020, 60]\n"
          ],
          "name": "stdout"
        }
      ]
    },
    {
      "cell_type": "code",
      "metadata": {
        "id": "wQjvSPKRNVa8",
        "colab_type": "code",
        "colab": {}
      },
      "source": [
        "#Recode the beer names keeping only top beer names (all others at NA)\n",
        "from pandas.api.types import CategoricalDtype\n",
        "features['beer/brewerId']= features['beer/brewerId'].astype(CategoricalDtype(categories=brewerIdList))"
      ],
      "execution_count": 415,
      "outputs": []
    },
    {
      "cell_type": "code",
      "metadata": {
        "id": "IhrWH37VLFaz",
        "colab_type": "code",
        "colab": {
          "base_uri": "https://localhost:8080/",
          "height": 136
        },
        "outputId": "8dbefac8-fbc9-4f67-ec01-143374ccdf69"
      },
      "source": [
        "features.columns"
      ],
      "execution_count": 416,
      "outputs": [
        {
          "output_type": "execute_result",
          "data": {
            "text/plain": [
              "Index(['level_0', 'index', 'beer/ABV', 'beer/beerId', 'beer/brewerId',\n",
              "       'review/appearance', 'review/aroma', 'review/overall', 'review/palate',\n",
              "       'review/taste', 'review/text', 'review/timeStruct', 'review/timeUnix',\n",
              "       'user/ageInSeconds', 'user/birthdayRaw', 'user/birthdayUnix',\n",
              "       'user/gender', 'user/profileName', 'clean_beerNames',\n",
              "       'clean_beerTypes'],\n",
              "      dtype='object')"
            ]
          },
          "metadata": {
            "tags": []
          },
          "execution_count": 416
        }
      ]
    },
    {
      "cell_type": "code",
      "metadata": {
        "id": "EHj3XC2ZuTrg",
        "colab_type": "code",
        "colab": {}
      },
      "source": [
        "features.drop(['level_0', 'index','review/timeStruct','user/profileName','user/birthdayRaw'],axis=1,inplace=True)"
      ],
      "execution_count": 417,
      "outputs": []
    },
    {
      "cell_type": "markdown",
      "metadata": {
        "id": "0s0DQjVrPr0r",
        "colab_type": "text"
      },
      "source": [
        "## Checking Correlations"
      ]
    },
    {
      "cell_type": "code",
      "metadata": {
        "id": "8UWmikNhOf8Y",
        "colab_type": "code",
        "colab": {
          "base_uri": "https://localhost:8080/",
          "height": 600
        },
        "outputId": "b072a400-0022-4593-a76d-c19bb4b4f875"
      },
      "source": [
        "f, ax = plt.subplots(figsize=(20, 10))\n",
        "sns.heatmap(features.corr(method='spearman'), annot=True, cmap=\"YlGnBu\")"
      ],
      "execution_count": 418,
      "outputs": [
        {
          "output_type": "execute_result",
          "data": {
            "text/plain": [
              "<matplotlib.axes._subplots.AxesSubplot at 0x7f39290b0be0>"
            ]
          },
          "metadata": {
            "tags": []
          },
          "execution_count": 418
        },
        {
          "output_type": "display_data",
          "data": {
            "image/png": "[encoded data removed]",
            "text/plain": [
              "<Figure size 1440x720 with 2 Axes>"
            ]
          },
          "metadata": {
            "tags": [],
            "needs_background": "light"
          }
        }
      ]
    },
    {
      "cell_type": "code",
      "metadata": {
        "id": "rc7A44T5QClU",
        "colab_type": "code",
        "colab": {}
      },
      "source": [
        "features['beer/brewerId'] = features['beer/brewerId'].cat.add_categories('0')\n",
        "features['beer/brewerId'].fillna('0', inplace=True) \n"
      ],
      "execution_count": 419,
      "outputs": []
    },
    {
      "cell_type": "code",
      "metadata": {
        "id": "R48Z0pxWPmp2",
        "colab_type": "code",
        "colab": {}
      },
      "source": [
        "features['beer/beerId'] = features['beer/beerId'].cat.add_categories('0')\n",
        "features['beer/beerId'].fillna('0', inplace=True) \n"
      ],
      "execution_count": 420,
      "outputs": []
    },
    {
      "cell_type": "code",
      "metadata": {
        "id": "XQKN3VHXVbfl",
        "colab_type": "code",
        "colab": {}
      },
      "source": [
        "features = features.sample(frac=1).reset_index(drop=True)"
      ],
      "execution_count": 421,
      "outputs": []
    },
    {
      "cell_type": "code",
      "metadata": {
        "id": "yr0U_6MQV-86",
        "colab_type": "code",
        "colab": {
          "base_uri": "https://localhost:8080/",
          "height": 1000
        },
        "outputId": "26ed9e33-c1ff-40e1-a3ff-e629a4434539"
      },
      "source": [
        "features"
      ],
      "execution_count": 422,
      "outputs": [
        {
          "output_type": "execute_result",
          "data": {
            "text/html": [
              "<div>\n",
              "<style scoped>\n",
              "    .dataframe tbody tr th:only-of-type {\n",
              "        vertical-align: middle;\n",
              "    }\n",
              "\n",
              "    .dataframe tbody tr th {\n",
              "        vertical-align: top;\n",
              "    }\n",
              "\n",
              "    .dataframe thead th {\n",
              "        text-align: right;\n",
              "    }\n",
              "</style>\n",
              "<table border=\"1\" class=\"dataframe\">\n",
              "  <thead>\n",
              "    <tr style=\"text-align: right;\">\n",
              "      <th></th>\n",
              "      <th>beer/ABV</th>\n",
              "      <th>beer/beerId</th>\n",
              "      <th>beer/brewerId</th>\n",
              "      <th>review/appearance</th>\n",
              "      <th>review/aroma</th>\n",
              "      <th>review/overall</th>\n",
              "      <th>review/palate</th>\n",
              "      <th>review/taste</th>\n",
              "      <th>review/text</th>\n",
              "      <th>review/timeUnix</th>\n",
              "      <th>user/ageInSeconds</th>\n",
              "      <th>user/birthdayUnix</th>\n",
              "      <th>user/gender</th>\n",
              "      <th>clean_beerNames</th>\n",
              "      <th>clean_beerTypes</th>\n",
              "    </tr>\n",
              "  </thead>\n",
              "  <tbody>\n",
              "    <tr>\n",
              "      <th>0</th>\n",
              "      <td>5.20</td>\n",
              "      <td>0</td>\n",
              "      <td>263</td>\n",
              "      <td>3.5</td>\n",
              "      <td>4.0</td>\n",
              "      <td>3.5</td>\n",
              "      <td>3.5</td>\n",
              "      <td>4.0</td>\n",
              "      <td>Pours a slightly hazy, brownish-orange with a ...</td>\n",
              "      <td>1167426832</td>\n",
              "      <td>1.013958e+09</td>\n",
              "      <td>404377200.0</td>\n",
              "      <td>Male</td>\n",
              "      <td>NaN</td>\n",
              "      <td>rauchbier</td>\n",
              "    </tr>\n",
              "    <tr>\n",
              "      <th>1</th>\n",
              "      <td>3.80</td>\n",
              "      <td>0</td>\n",
              "      <td>0</td>\n",
              "      <td>3.5</td>\n",
              "      <td>3.5</td>\n",
              "      <td>4.0</td>\n",
              "      <td>4.0</td>\n",
              "      <td>4.0</td>\n",
              "      <td>Had a bottle purchased from my Local Netto sto...</td>\n",
              "      <td>1302905047</td>\n",
              "      <td>1.100009e+09</td>\n",
              "      <td>318326400.0</td>\n",
              "      <td>missing</td>\n",
              "      <td>NaN</td>\n",
              "      <td>NaN</td>\n",
              "    </tr>\n",
              "    <tr>\n",
              "      <th>2</th>\n",
              "      <td>10.50</td>\n",
              "      <td>21822</td>\n",
              "      <td>1199</td>\n",
              "      <td>5.0</td>\n",
              "      <td>5.0</td>\n",
              "      <td>4.5</td>\n",
              "      <td>5.0</td>\n",
              "      <td>5.0</td>\n",
              "      <td>acquired through trade with rysberg01 (good tr...</td>\n",
              "      <td>1161240979</td>\n",
              "      <td>1.100009e+09</td>\n",
              "      <td>318326400.0</td>\n",
              "      <td>missing</td>\n",
              "      <td>founder imperi stout</td>\n",
              "      <td>russian imperi stout</td>\n",
              "    </tr>\n",
              "    <tr>\n",
              "      <th>3</th>\n",
              "      <td>8.30</td>\n",
              "      <td>11757</td>\n",
              "      <td>1199</td>\n",
              "      <td>5.0</td>\n",
              "      <td>4.0</td>\n",
              "      <td>4.5</td>\n",
              "      <td>4.5</td>\n",
              "      <td>4.5</td>\n",
              "      <td>Kudos to Derek for getting this gem on draft i...</td>\n",
              "      <td>1171893949</td>\n",
              "      <td>1.100009e+09</td>\n",
              "      <td>318326400.0</td>\n",
              "      <td>missing</td>\n",
              "      <td>founder breakfast stout</td>\n",
              "      <td>american doubl imperi stout</td>\n",
              "    </tr>\n",
              "    <tr>\n",
              "      <th>4</th>\n",
              "      <td>8.30</td>\n",
              "      <td>11757</td>\n",
              "      <td>1199</td>\n",
              "      <td>4.5</td>\n",
              "      <td>4.0</td>\n",
              "      <td>4.0</td>\n",
              "      <td>2.5</td>\n",
              "      <td>4.0</td>\n",
              "      <td>Bottle tasted side by side with KBS.\\t\\tPours ...</td>\n",
              "      <td>1272463585</td>\n",
              "      <td>1.034431e+09</td>\n",
              "      <td>383904000.0</td>\n",
              "      <td>Male</td>\n",
              "      <td>founder breakfast stout</td>\n",
              "      <td>american doubl imperi stout</td>\n",
              "    </tr>\n",
              "    <tr>\n",
              "      <th>...</th>\n",
              "      <td>...</td>\n",
              "      <td>...</td>\n",
              "      <td>...</td>\n",
              "      <td>...</td>\n",
              "      <td>...</td>\n",
              "      <td>...</td>\n",
              "      <td>...</td>\n",
              "      <td>...</td>\n",
              "      <td>...</td>\n",
              "      <td>...</td>\n",
              "      <td>...</td>\n",
              "      <td>...</td>\n",
              "      <td>...</td>\n",
              "      <td>...</td>\n",
              "      <td>...</td>\n",
              "    </tr>\n",
              "    <tr>\n",
              "      <th>37480</th>\n",
              "      <td>5.79</td>\n",
              "      <td>0</td>\n",
              "      <td>395</td>\n",
              "      <td>4.5</td>\n",
              "      <td>4.5</td>\n",
              "      <td>4.5</td>\n",
              "      <td>4.0</td>\n",
              "      <td>4.0</td>\n",
              "      <td>I really enjoyed BBC's Dark Star Porter so I'm...</td>\n",
              "      <td>1087000030</td>\n",
              "      <td>1.100009e+09</td>\n",
              "      <td>318326400.0</td>\n",
              "      <td>missing</td>\n",
              "      <td>NaN</td>\n",
              "      <td>american pale ale apa</td>\n",
              "    </tr>\n",
              "    <tr>\n",
              "      <th>37481</th>\n",
              "      <td>10.50</td>\n",
              "      <td>21822</td>\n",
              "      <td>1199</td>\n",
              "      <td>4.5</td>\n",
              "      <td>4.0</td>\n",
              "      <td>5.0</td>\n",
              "      <td>4.5</td>\n",
              "      <td>4.5</td>\n",
              "      <td>A- Pours very dark brown and settles pitch bla...</td>\n",
              "      <td>1299310750</td>\n",
              "      <td>1.100009e+09</td>\n",
              "      <td>318326400.0</td>\n",
              "      <td>missing</td>\n",
              "      <td>founder imperi stout</td>\n",
              "      <td>russian imperi stout</td>\n",
              "    </tr>\n",
              "    <tr>\n",
              "      <th>37482</th>\n",
              "      <td>9.00</td>\n",
              "      <td>0</td>\n",
              "      <td>394</td>\n",
              "      <td>4.5</td>\n",
              "      <td>4.5</td>\n",
              "      <td>5.0</td>\n",
              "      <td>3.5</td>\n",
              "      <td>4.5</td>\n",
              "      <td>750ml bottle from hopdog via trade. Thanks for...</td>\n",
              "      <td>1183336018</td>\n",
              "      <td>1.378563e+09</td>\n",
              "      <td>39772800.0</td>\n",
              "      <td>Male</td>\n",
              "      <td>NaN</td>\n",
              "      <td>NaN</td>\n",
              "    </tr>\n",
              "    <tr>\n",
              "      <th>37483</th>\n",
              "      <td>10.00</td>\n",
              "      <td>20470</td>\n",
              "      <td>394</td>\n",
              "      <td>4.0</td>\n",
              "      <td>3.0</td>\n",
              "      <td>4.0</td>\n",
              "      <td>4.0</td>\n",
              "      <td>4.5</td>\n",
              "      <td>Pouring into a snifter from a room temperature...</td>\n",
              "      <td>1122259499</td>\n",
              "      <td>1.100009e+09</td>\n",
              "      <td>318326400.0</td>\n",
              "      <td>missing</td>\n",
              "      <td>stoudt doubl ipa india pale ale</td>\n",
              "      <td>american doubl imperi ipa</td>\n",
              "    </tr>\n",
              "    <tr>\n",
              "      <th>37484</th>\n",
              "      <td>7.00</td>\n",
              "      <td>0</td>\n",
              "      <td>394</td>\n",
              "      <td>4.5</td>\n",
              "      <td>3.0</td>\n",
              "      <td>4.0</td>\n",
              "      <td>3.5</td>\n",
              "      <td>4.0</td>\n",
              "      <td>A_pours a slightly dark golden hue with a crea...</td>\n",
              "      <td>1209440768</td>\n",
              "      <td>1.100009e+09</td>\n",
              "      <td>318326400.0</td>\n",
              "      <td>Male</td>\n",
              "      <td>NaN</td>\n",
              "      <td>NaN</td>\n",
              "    </tr>\n",
              "  </tbody>\n",
              "</table>\n",
              "<p>37485 rows × 15 columns</p>\n",
              "</div>"
            ],
            "text/plain": [
              "       beer/ABV  ...              clean_beerTypes\n",
              "0          5.20  ...                    rauchbier\n",
              "1          3.80  ...                          NaN\n",
              "2         10.50  ...         russian imperi stout\n",
              "3          8.30  ...  american doubl imperi stout\n",
              "4          8.30  ...  american doubl imperi stout\n",
              "...         ...  ...                          ...\n",
              "37480      5.79  ...        american pale ale apa\n",
              "37481     10.50  ...         russian imperi stout\n",
              "37482      9.00  ...                          NaN\n",
              "37483     10.00  ...    american doubl imperi ipa\n",
              "37484      7.00  ...                          NaN\n",
              "\n",
              "[37485 rows x 15 columns]"
            ]
          },
          "metadata": {
            "tags": []
          },
          "execution_count": 422
        }
      ]
    },
    {
      "cell_type": "code",
      "metadata": {
        "id": "2g2O6m9HWSw7",
        "colab_type": "code",
        "colab": {}
      },
      "source": [
        "# features['review/overall'] = train['review/overall']"
      ],
      "execution_count": 375,
      "outputs": []
    },
    {
      "cell_type": "markdown",
      "metadata": {
        "id": "vNjAA1drWTAR",
        "colab_type": "text"
      },
      "source": [
        "## Train-Test Split(70:30)"
      ]
    },
    {
      "cell_type": "code",
      "metadata": {
        "id": "HtSkslwvVlo_",
        "colab_type": "code",
        "colab": {}
      },
      "source": [
        "#spit data into train and test\n",
        "from sklearn.model_selection import train_test_split\n",
        "X_train, X_test, y_train, y_test = train_test_split(features, features['review/overall'], test_size=0.3, random_state=64)"
      ],
      "execution_count": 428,
      "outputs": []
    },
    {
      "cell_type": "code",
      "metadata": {
        "id": "0-RRFQ0RO5hU",
        "colab_type": "code",
        "colab": {
          "base_uri": "https://localhost:8080/",
          "height": 34
        },
        "outputId": "0b46fb25-f748-4475-b1e6-0c596e76a849"
      },
      "source": [
        "X_train.shape, X_test.shape, y_train.shape, y_test.shape"
      ],
      "execution_count": 429,
      "outputs": [
        {
          "output_type": "execute_result",
          "data": {
            "text/plain": [
              "((26239, 15), (11246, 15), (26239,), (11246,))"
            ]
          },
          "metadata": {
            "tags": []
          },
          "execution_count": 429
        }
      ]
    },
    {
      "cell_type": "code",
      "metadata": {
        "id": "ZEHMSTJtRbkW",
        "colab_type": "code",
        "colab": {}
      },
      "source": [
        "# features.drop(['product_category_2'],axis=1,inplace=True)"
      ],
      "execution_count": 362,
      "outputs": []
    },
    {
      "cell_type": "markdown",
      "metadata": {
        "id": "qIS8IowAP1Xt",
        "colab_type": "text"
      },
      "source": [
        "## Vectorise Numerical Features"
      ]
    },
    {
      "cell_type": "code",
      "metadata": {
        "id": "UMjo2Jb5VJHy",
        "colab_type": "code",
        "colab": {}
      },
      "source": [
        "from sklearn.preprocessing import StandardScaler\n",
        "import warnings\n",
        "warnings.filterwarnings(\"ignore\")\n",
        "\n",
        "def numerical_vectorizations(m,o):\n",
        "    \n",
        "    scalars = StandardScaler()\n",
        "    scalars.fit(m.values.reshape(-1,1)) \n",
        "    print(f\"Mean : {scalars.mean_[0]}, Standard deviation : {np.sqrt(scalars.var_[0])}\")\n",
        "\n",
        "    standardized_train = scalars.transform(m.values.reshape(-1, 1))\n",
        "    standardized_test = scalars.transform(o.values.reshape(-1, 1))\n",
        "    return standardized_train,standardized_test"
      ],
      "execution_count": 430,
      "outputs": []
    },
    {
      "cell_type": "code",
      "metadata": {
        "id": "NfrzqQISYuoy",
        "colab_type": "code",
        "colab": {
          "base_uri": "https://localhost:8080/",
          "height": 496
        },
        "outputId": "3e7c44bc-a935-4b93-ce5f-f31b28482735"
      },
      "source": [
        "X_train.head(5)"
      ],
      "execution_count": 439,
      "outputs": [
        {
          "output_type": "execute_result",
          "data": {
            "text/html": [
              "<div>\n",
              "<style scoped>\n",
              "    .dataframe tbody tr th:only-of-type {\n",
              "        vertical-align: middle;\n",
              "    }\n",
              "\n",
              "    .dataframe tbody tr th {\n",
              "        vertical-align: top;\n",
              "    }\n",
              "\n",
              "    .dataframe thead th {\n",
              "        text-align: right;\n",
              "    }\n",
              "</style>\n",
              "<table border=\"1\" class=\"dataframe\">\n",
              "  <thead>\n",
              "    <tr style=\"text-align: right;\">\n",
              "      <th></th>\n",
              "      <th>beer/ABV</th>\n",
              "      <th>beer/beerId</th>\n",
              "      <th>beer/brewerId</th>\n",
              "      <th>review/appearance</th>\n",
              "      <th>review/aroma</th>\n",
              "      <th>review/overall</th>\n",
              "      <th>review/palate</th>\n",
              "      <th>review/taste</th>\n",
              "      <th>review/text</th>\n",
              "      <th>review/timeUnix</th>\n",
              "      <th>user/ageInSeconds</th>\n",
              "      <th>user/birthdayUnix</th>\n",
              "      <th>user/gender</th>\n",
              "      <th>clean_beerNames</th>\n",
              "      <th>clean_beerTypes</th>\n",
              "    </tr>\n",
              "  </thead>\n",
              "  <tbody>\n",
              "    <tr>\n",
              "      <th>7109</th>\n",
              "      <td>6.1</td>\n",
              "      <td>0</td>\n",
              "      <td>1075</td>\n",
              "      <td>4.5</td>\n",
              "      <td>3.0</td>\n",
              "      <td>3.5</td>\n",
              "      <td>3.5</td>\n",
              "      <td>3.0</td>\n",
              "      <td>I dont believe that I tasted the freshest can,...</td>\n",
              "      <td>1306711927</td>\n",
              "      <td>1.288883e+09</td>\n",
              "      <td>129452400.0</td>\n",
              "      <td>Male</td>\n",
              "      <td>NaN</td>\n",
              "      <td>american ipa</td>\n",
              "    </tr>\n",
              "    <tr>\n",
              "      <th>35069</th>\n",
              "      <td>6.5</td>\n",
              "      <td>0</td>\n",
              "      <td>1199</td>\n",
              "      <td>3.0</td>\n",
              "      <td>4.0</td>\n",
              "      <td>3.0</td>\n",
              "      <td>3.0</td>\n",
              "      <td>4.5</td>\n",
              "      <td>a- pours into my Ommegang glass a yellow/ almo...</td>\n",
              "      <td>1257724388</td>\n",
              "      <td>1.100009e+09</td>\n",
              "      <td>318326400.0</td>\n",
              "      <td>missing</td>\n",
              "      <td>NaN</td>\n",
              "      <td>american ipa</td>\n",
              "    </tr>\n",
              "    <tr>\n",
              "      <th>19313</th>\n",
              "      <td>11.2</td>\n",
              "      <td>19960</td>\n",
              "      <td>1199</td>\n",
              "      <td>4.0</td>\n",
              "      <td>4.5</td>\n",
              "      <td>4.5</td>\n",
              "      <td>5.0</td>\n",
              "      <td>4.5</td>\n",
              "      <td>Serving glass: Poured from bottle into Snifter...</td>\n",
              "      <td>1268874946</td>\n",
              "      <td>1.191766e+09</td>\n",
              "      <td>226569600.0</td>\n",
              "      <td>Male</td>\n",
              "      <td>founder kb kentucki breakfast stout</td>\n",
              "      <td>american doubl imperi stout</td>\n",
              "    </tr>\n",
              "    <tr>\n",
              "      <th>26489</th>\n",
              "      <td>5.6</td>\n",
              "      <td>0</td>\n",
              "      <td>9020</td>\n",
              "      <td>4.0</td>\n",
              "      <td>3.0</td>\n",
              "      <td>4.0</td>\n",
              "      <td>4.0</td>\n",
              "      <td>4.0</td>\n",
              "      <td>A: Very dark brown, almost black in color. Nic...</td>\n",
              "      <td>1313198461</td>\n",
              "      <td>1.100009e+09</td>\n",
              "      <td>318326400.0</td>\n",
              "      <td>missing</td>\n",
              "      <td>NaN</td>\n",
              "      <td>NaN</td>\n",
              "    </tr>\n",
              "    <tr>\n",
              "      <th>17543</th>\n",
              "      <td>5.0</td>\n",
              "      <td>0</td>\n",
              "      <td>394</td>\n",
              "      <td>4.0</td>\n",
              "      <td>3.5</td>\n",
              "      <td>4.0</td>\n",
              "      <td>3.5</td>\n",
              "      <td>3.5</td>\n",
              "      <td>A 12 ounce bottle poured into a standard shake...</td>\n",
              "      <td>1255062782</td>\n",
              "      <td>1.100009e+09</td>\n",
              "      <td>318326400.0</td>\n",
              "      <td>missing</td>\n",
              "      <td>NaN</td>\n",
              "      <td>NaN</td>\n",
              "    </tr>\n",
              "  </tbody>\n",
              "</table>\n",
              "</div>"
            ],
            "text/plain": [
              "       beer/ABV  ...              clean_beerTypes\n",
              "7109        6.1  ...                 american ipa\n",
              "35069       6.5  ...                 american ipa\n",
              "19313      11.2  ...  american doubl imperi stout\n",
              "26489       5.6  ...                          NaN\n",
              "17543       5.0  ...                          NaN\n",
              "\n",
              "[5 rows x 15 columns]"
            ]
          },
          "metadata": {
            "tags": []
          },
          "execution_count": 439
        }
      ]
    },
    {
      "cell_type": "code",
      "metadata": {
        "id": "gL12LPInYrSp",
        "colab_type": "code",
        "colab": {
          "base_uri": "https://localhost:8080/",
          "height": 85
        },
        "outputId": "eed5c8c1-ad80-4a31-d299-2038481a071f"
      },
      "source": [
        "std_train_1 ,std_test_1 = numerical_vectorizations(X_train['beer/ABV'],X_test['beer/ABV'])\n",
        "print(\"After Column Standardisation: \")\n",
        "print(std_train_1.shape, y_train.shape)\n",
        "print(std_test_1.shape)"
      ],
      "execution_count": 433,
      "outputs": [
        {
          "output_type": "stream",
          "text": [
            "Mean : 7.406236899272076, Standard deviation : 2.319127447613784\n",
            "After Column Standardisation: \n",
            "(26239, 1) (26239,)\n",
            "(11246, 1)\n"
          ],
          "name": "stdout"
        }
      ]
    },
    {
      "cell_type": "code",
      "metadata": {
        "id": "xgTbVDmAYrZM",
        "colab_type": "code",
        "colab": {
          "base_uri": "https://localhost:8080/",
          "height": 85
        },
        "outputId": "d089a1de-8e8e-4aa1-c627-bff621891182"
      },
      "source": [
        "X_train['beer/beerId']= pd.to_numeric(X_train['beer/beerId'], errors='coerce')\n",
        "X_test['beer/beerId']= pd.to_numeric(X_test['beer/beerId'], errors='coerce')\n",
        "\n",
        "std_train_2 ,std_test_2 = numerical_vectorizations(X_train['beer/beerId'],X_test['beer/beerId'])\n",
        "print(\"After Column Standardisation: \")\n",
        "print(std_train_2.shape, y_train.shape)\n",
        "print(std_test_2.shape)"
      ],
      "execution_count": 443,
      "outputs": [
        {
          "output_type": "stream",
          "text": [
            "Mean : 5943.76675940394, Standard deviation : 10100.361946145329\n",
            "After Column Standardisation: \n",
            "(26239, 1) (26239,)\n",
            "(11246, 1)\n"
          ],
          "name": "stdout"
        }
      ]
    },
    {
      "cell_type": "code",
      "metadata": {
        "id": "BU2AYAoaYrXf",
        "colab_type": "code",
        "colab": {
          "base_uri": "https://localhost:8080/",
          "height": 85
        },
        "outputId": "858ae073-73dc-447b-be70-7b6b49ea6883"
      },
      "source": [
        "X_train['beer/brewerId']= pd.to_numeric(X_train['beer/brewerId'], errors='coerce')\n",
        "X_test['beer/brewerId']= pd.to_numeric(X_test['beer/brewerId'], errors='coerce')\n",
        "\n",
        "std_train_3 ,std_test_3 = numerical_vectorizations(X_train['beer/brewerId'],X_test['beer/brewerId'])\n",
        "print(\"After Column Standardisation: \")\n",
        "print(std_train_3.shape, y_train.shape)\n",
        "print(std_test_3.shape)"
      ],
      "execution_count": 445,
      "outputs": [
        {
          "output_type": "stream",
          "text": [
            "Mean : 1797.1352947901978, Standard deviation : 3589.554166655147\n",
            "After Column Standardisation: \n",
            "(26239, 1) (26239,)\n",
            "(11246, 1)\n"
          ],
          "name": "stdout"
        }
      ]
    },
    {
      "cell_type": "code",
      "metadata": {
        "id": "EMVmUK2vYrVp",
        "colab_type": "code",
        "colab": {
          "base_uri": "https://localhost:8080/",
          "height": 85
        },
        "outputId": "89706e3a-0d57-4dfa-f461-10f88072cf9f"
      },
      "source": [
        "X_train['review/appearance']= pd.to_numeric(X_train['review/appearance'], errors='coerce')\n",
        "X_test['review/appearance']= pd.to_numeric(X_test['review/appearance'], errors='coerce')\n",
        "\n",
        "std_train_4 ,std_test_4 = numerical_vectorizations(X_train['review/appearance'],X_test['review/appearance'])\n",
        "print(\"After Column Standardisation: \")\n",
        "print(std_train_4.shape, y_train.shape)\n",
        "print(std_test_4.shape)"
      ],
      "execution_count": 446,
      "outputs": [
        {
          "output_type": "stream",
          "text": [
            "Mean : 3.900605968215252, Standard deviation : 0.5862084923908392\n",
            "After Column Standardisation: \n",
            "(26239, 1) (26239,)\n",
            "(11246, 1)\n"
          ],
          "name": "stdout"
        }
      ]
    },
    {
      "cell_type": "code",
      "metadata": {
        "id": "LceymcslaWnW",
        "colab_type": "code",
        "colab": {
          "base_uri": "https://localhost:8080/",
          "height": 85
        },
        "outputId": "0f3c8137-5d56-4640-ebc9-e79fff5948d4"
      },
      "source": [
        "X_train['review/aroma']= pd.to_numeric(X_train['review/aroma'], errors='coerce')\n",
        "X_test['review/aroma']= pd.to_numeric(X_test['review/aroma'], errors='coerce')\n",
        "\n",
        "std_train_5 ,std_test_5 = numerical_vectorizations(X_train['review/aroma'],X_test['review/aroma'])\n",
        "print(\"After Column Standardisation: \")\n",
        "print(std_train_5.shape, y_train.shape)\n",
        "print(std_test_5.shape)"
      ],
      "execution_count": 447,
      "outputs": [
        {
          "output_type": "stream",
          "text": [
            "Mean : 3.8724227295247533, Standard deviation : 0.6758052389772954\n",
            "After Column Standardisation: \n",
            "(26239, 1) (26239,)\n",
            "(11246, 1)\n"
          ],
          "name": "stdout"
        }
      ]
    },
    {
      "cell_type": "code",
      "metadata": {
        "id": "dxk3UqlZaW0Q",
        "colab_type": "code",
        "colab": {
          "base_uri": "https://localhost:8080/",
          "height": 85
        },
        "outputId": "cadc4079-c081-4fcc-8ce1-137aa0004206"
      },
      "source": [
        "X_train['review/palate']= pd.to_numeric(X_train['review/palate'], errors='coerce')\n",
        "X_test['review/palate']= pd.to_numeric(X_test['review/palate'], errors='coerce')\n",
        "\n",
        "std_train_6 ,std_test_6 = numerical_vectorizations(X_train['review/palate'],X_test['review/palate'])\n",
        "print(\"After Column Standardisation: \")\n",
        "print(std_train_6.shape, y_train.shape)\n",
        "print(std_test_6.shape)"
      ],
      "execution_count": 448,
      "outputs": [
        {
          "output_type": "stream",
          "text": [
            "Mean : 3.854624795152254, Standard deviation : 0.6642882434802061\n",
            "After Column Standardisation: \n",
            "(26239, 1) (26239,)\n",
            "(11246, 1)\n"
          ],
          "name": "stdout"
        }
      ]
    },
    {
      "cell_type": "code",
      "metadata": {
        "id": "2vYAZP7PaWys",
        "colab_type": "code",
        "colab": {
          "base_uri": "https://localhost:8080/",
          "height": 85
        },
        "outputId": "42b61c89-d17c-4f2e-b80d-9f3493e86b04"
      },
      "source": [
        "X_train['review/taste']= pd.to_numeric(X_train['review/taste'], errors='coerce')\n",
        "X_test['review/taste']= pd.to_numeric(X_test['review/taste'], errors='coerce')\n",
        "\n",
        "std_train_7 ,std_test_7 = numerical_vectorizations(X_train['review/taste'],X_test['review/taste'])\n",
        "print(\"After Column Standardisation: \")\n",
        "print(std_train_7.shape, y_train.shape)\n",
        "print(std_test_7.shape)"
      ],
      "execution_count": 449,
      "outputs": [
        {
          "output_type": "stream",
          "text": [
            "Mean : 3.9232440260680668, Standard deviation : 0.7122330678961271\n",
            "After Column Standardisation: \n",
            "(26239, 1) (26239,)\n",
            "(11246, 1)\n"
          ],
          "name": "stdout"
        }
      ]
    },
    {
      "cell_type": "code",
      "metadata": {
        "id": "KRPyWKCAaWw7",
        "colab_type": "code",
        "colab": {
          "base_uri": "https://localhost:8080/",
          "height": 85
        },
        "outputId": "de4d32f6-6eb9-4c74-d010-60db70b1cd40"
      },
      "source": [
        "X_train['review/timeUnix']= pd.to_numeric(X_train['review/timeUnix'], errors='coerce')\n",
        "X_test['review/timeUnix']= pd.to_numeric(X_test['review/timeUnix'], errors='coerce')\n",
        "\n",
        "std_train_8 ,std_test_8 = numerical_vectorizations(X_train['review/timeUnix'],X_test['review/timeUnix'])\n",
        "print(\"After Column Standardisation: \")\n",
        "print(std_train_8.shape, y_train.shape)\n",
        "print(std_test_8.shape)"
      ],
      "execution_count": 450,
      "outputs": [
        {
          "output_type": "stream",
          "text": [
            "Mean : 1232749622.1694806, Standard deviation : 71678951.5104187\n",
            "After Column Standardisation: \n",
            "(26239, 1) (26239,)\n",
            "(11246, 1)\n"
          ],
          "name": "stdout"
        }
      ]
    },
    {
      "cell_type": "code",
      "metadata": {
        "id": "MiG-VDQxaWsn",
        "colab_type": "code",
        "colab": {
          "base_uri": "https://localhost:8080/",
          "height": 85
        },
        "outputId": "d04c7e85-c31a-4cf0-949b-84b8ae057772"
      },
      "source": [
        "X_train['user/ageInSeconds']= pd.to_numeric(X_train['user/ageInSeconds'], errors='coerce')\n",
        "X_test['user/ageInSeconds']= pd.to_numeric(X_test['user/ageInSeconds'], errors='coerce')\n",
        "\n",
        "std_train_9 ,std_test_9 = numerical_vectorizations(X_train['user/ageInSeconds'],X_test['user/ageInSeconds'])\n",
        "print(\"After Column Standardisation: \")\n",
        "print(std_train_9.shape, y_train.shape)\n",
        "print(std_test_9.shape)"
      ],
      "execution_count": 452,
      "outputs": [
        {
          "output_type": "stream",
          "text": [
            "Mean : 1115745687.1463852, Standard deviation : 153821653.59656808\n",
            "After Column Standardisation: \n",
            "(26239, 1) (26239,)\n",
            "(11246, 1)\n"
          ],
          "name": "stdout"
        }
      ]
    },
    {
      "cell_type": "code",
      "metadata": {
        "id": "7q51lhZGaWqy",
        "colab_type": "code",
        "colab": {
          "base_uri": "https://localhost:8080/",
          "height": 85
        },
        "outputId": "5d751ab2-7dfe-4e07-9d51-8a651a6685da"
      },
      "source": [
        "X_train['user/birthdayUnix']= pd.to_numeric(X_train['user/birthdayUnix'], errors='coerce')\n",
        "X_test['user/birthdayUnix']= pd.to_numeric(X_test['user/birthdayUnix'], errors='coerce')\n",
        "\n",
        "std_train_10 ,std_test_10 = numerical_vectorizations(X_train['user/birthdayUnix'],X_test['user/birthdayUnix'])\n",
        "print(\"After Column Standardisation: \")\n",
        "print(std_train_10.shape, y_train.shape)\n",
        "print(std_test_10.shape)"
      ],
      "execution_count": 453,
      "outputs": [
        {
          "output_type": "stream",
          "text": [
            "Mean : 302589759.8841419, Standard deviation : 153821653.59224394\n",
            "After Column Standardisation: \n",
            "(26239, 1) (26239,)\n",
            "(11246, 1)\n"
          ],
          "name": "stdout"
        }
      ]
    },
    {
      "cell_type": "code",
      "metadata": {
        "id": "9pS5vU9pcAMQ",
        "colab_type": "code",
        "colab": {
          "base_uri": "https://localhost:8080/",
          "height": 530
        },
        "outputId": "11e8c9cb-d2e1-4a7b-940d-499e3fdd9aa4"
      },
      "source": [
        "features.head(5)"
      ],
      "execution_count": 468,
      "outputs": [
        {
          "output_type": "execute_result",
          "data": {
            "text/html": [
              "<div>\n",
              "<style scoped>\n",
              "    .dataframe tbody tr th:only-of-type {\n",
              "        vertical-align: middle;\n",
              "    }\n",
              "\n",
              "    .dataframe tbody tr th {\n",
              "        vertical-align: top;\n",
              "    }\n",
              "\n",
              "    .dataframe thead th {\n",
              "        text-align: right;\n",
              "    }\n",
              "</style>\n",
              "<table border=\"1\" class=\"dataframe\">\n",
              "  <thead>\n",
              "    <tr style=\"text-align: right;\">\n",
              "      <th></th>\n",
              "      <th>beer/ABV</th>\n",
              "      <th>beer/beerId</th>\n",
              "      <th>beer/brewerId</th>\n",
              "      <th>review/appearance</th>\n",
              "      <th>review/aroma</th>\n",
              "      <th>review/overall</th>\n",
              "      <th>review/palate</th>\n",
              "      <th>review/taste</th>\n",
              "      <th>review/text</th>\n",
              "      <th>review/timeUnix</th>\n",
              "      <th>user/ageInSeconds</th>\n",
              "      <th>user/birthdayUnix</th>\n",
              "      <th>user/gender</th>\n",
              "      <th>clean_beerNames</th>\n",
              "      <th>clean_beerTypes</th>\n",
              "    </tr>\n",
              "  </thead>\n",
              "  <tbody>\n",
              "    <tr>\n",
              "      <th>0</th>\n",
              "      <td>5.2</td>\n",
              "      <td>0</td>\n",
              "      <td>263</td>\n",
              "      <td>3.5</td>\n",
              "      <td>4.0</td>\n",
              "      <td>3.5</td>\n",
              "      <td>3.5</td>\n",
              "      <td>4.0</td>\n",
              "      <td>Pours a slightly hazy, brownish-orange with a ...</td>\n",
              "      <td>1167426832</td>\n",
              "      <td>1.013958e+09</td>\n",
              "      <td>404377200.0</td>\n",
              "      <td>Male</td>\n",
              "      <td>NaN</td>\n",
              "      <td>rauchbier</td>\n",
              "    </tr>\n",
              "    <tr>\n",
              "      <th>1</th>\n",
              "      <td>3.8</td>\n",
              "      <td>0</td>\n",
              "      <td>0</td>\n",
              "      <td>3.5</td>\n",
              "      <td>3.5</td>\n",
              "      <td>4.0</td>\n",
              "      <td>4.0</td>\n",
              "      <td>4.0</td>\n",
              "      <td>Had a bottle purchased from my Local Netto sto...</td>\n",
              "      <td>1302905047</td>\n",
              "      <td>1.100009e+09</td>\n",
              "      <td>318326400.0</td>\n",
              "      <td>missing</td>\n",
              "      <td>NaN</td>\n",
              "      <td>NaN</td>\n",
              "    </tr>\n",
              "    <tr>\n",
              "      <th>2</th>\n",
              "      <td>10.5</td>\n",
              "      <td>21822</td>\n",
              "      <td>1199</td>\n",
              "      <td>5.0</td>\n",
              "      <td>5.0</td>\n",
              "      <td>4.5</td>\n",
              "      <td>5.0</td>\n",
              "      <td>5.0</td>\n",
              "      <td>acquired through trade with rysberg01 (good tr...</td>\n",
              "      <td>1161240979</td>\n",
              "      <td>1.100009e+09</td>\n",
              "      <td>318326400.0</td>\n",
              "      <td>missing</td>\n",
              "      <td>founder imperi stout</td>\n",
              "      <td>russian imperi stout</td>\n",
              "    </tr>\n",
              "    <tr>\n",
              "      <th>3</th>\n",
              "      <td>8.3</td>\n",
              "      <td>11757</td>\n",
              "      <td>1199</td>\n",
              "      <td>5.0</td>\n",
              "      <td>4.0</td>\n",
              "      <td>4.5</td>\n",
              "      <td>4.5</td>\n",
              "      <td>4.5</td>\n",
              "      <td>Kudos to Derek for getting this gem on draft i...</td>\n",
              "      <td>1171893949</td>\n",
              "      <td>1.100009e+09</td>\n",
              "      <td>318326400.0</td>\n",
              "      <td>missing</td>\n",
              "      <td>founder breakfast stout</td>\n",
              "      <td>american doubl imperi stout</td>\n",
              "    </tr>\n",
              "    <tr>\n",
              "      <th>4</th>\n",
              "      <td>8.3</td>\n",
              "      <td>11757</td>\n",
              "      <td>1199</td>\n",
              "      <td>4.5</td>\n",
              "      <td>4.0</td>\n",
              "      <td>4.0</td>\n",
              "      <td>2.5</td>\n",
              "      <td>4.0</td>\n",
              "      <td>Bottle tasted side by side with KBS.\\t\\tPours ...</td>\n",
              "      <td>1272463585</td>\n",
              "      <td>1.034431e+09</td>\n",
              "      <td>383904000.0</td>\n",
              "      <td>Male</td>\n",
              "      <td>founder breakfast stout</td>\n",
              "      <td>american doubl imperi stout</td>\n",
              "    </tr>\n",
              "  </tbody>\n",
              "</table>\n",
              "</div>"
            ],
            "text/plain": [
              "   beer/ABV beer/beerId  ...          clean_beerNames              clean_beerTypes\n",
              "0       5.2           0  ...                      NaN                    rauchbier\n",
              "1       3.8           0  ...                      NaN                          NaN\n",
              "2      10.5       21822  ...     founder imperi stout         russian imperi stout\n",
              "3       8.3       11757  ...  founder breakfast stout  american doubl imperi stout\n",
              "4       8.3       11757  ...  founder breakfast stout  american doubl imperi stout\n",
              "\n",
              "[5 rows x 15 columns]"
            ]
          },
          "metadata": {
            "tags": []
          },
          "execution_count": 468
        }
      ]
    },
    {
      "cell_type": "markdown",
      "metadata": {
        "id": "WRopNDEKP7fy",
        "colab_type": "text"
      },
      "source": [
        "## Vectorise Categorical Features"
      ]
    },
    {
      "cell_type": "code",
      "metadata": {
        "id": "XA3QLr_4b4qB",
        "colab_type": "code",
        "colab": {}
      },
      "source": [
        "from collections import Counter\n",
        "\n",
        "def categorical_vectorization(m,o):\n",
        "    \n",
        "    \n",
        "    my_counter = Counter()\n",
        "    for word in m.values:\n",
        "        my_counter.update(str(word).split())\n",
        "    category_dict = dict(my_counter)\n",
        "    sorted_dict = dict(sorted(category_dict.items(), key=lambda kv: kv[1]))\n",
        "    \n",
        "    ## we use count vectorizer to convert the values into one hot encoded features\n",
        "    vectorizer = CountVectorizer(vocabulary=list(sorted_dict.keys()), lowercase=False, binary=True)\n",
        "    vectorizer.fit(m.values)\n",
        "    print(vectorizer.get_feature_names())\n",
        "    \n",
        "    one_hot_train = vectorizer.transform(m.values)\n",
        "    one_hot_test = vectorizer.transform(o.values)\n",
        "    return one_hot_train, one_hot_test"
      ],
      "execution_count": 458,
      "outputs": []
    },
    {
      "cell_type": "code",
      "metadata": {
        "id": "kqhMkzp1b4wG",
        "colab_type": "code",
        "colab": {
          "base_uri": "https://localhost:8080/",
          "height": 85
        },
        "outputId": "d01409b5-9a90-4aeb-ffb5-93bb8bf67c04"
      },
      "source": [
        "std_train_11 ,std_test_11 = categorical_vectorization(X_train['user/gender'],X_test['user/gender'])\n",
        "print(\"After Column Standardisation: \")\n",
        "print(std_train_11.shape, y_train.shape)\n",
        "print(std_test_11.shape)"
      ],
      "execution_count": 459,
      "outputs": [
        {
          "output_type": "stream",
          "text": [
            "['Female', 'Male', 'missing']\n",
            "After Column Standardisation: \n",
            "(26239, 3) (26239,)\n",
            "(11246, 3)\n"
          ],
          "name": "stdout"
        }
      ]
    },
    {
      "cell_type": "code",
      "metadata": {
        "id": "QGWwqv2Ncxty",
        "colab_type": "code",
        "colab": {}
      },
      "source": [
        "\n",
        "X_train['clean_beerNames'] = X_train['clean_beerNames'].cat.add_categories('missing')\n",
        "X_test['clean_beerNames'] = X_test['clean_beerNames'].cat.add_categories('missing')\n",
        "\n",
        "X_train['clean_beerNames'].fillna('missing', inplace=True) \n",
        "X_test['clean_beerNames'].fillna('missing', inplace=True) \n",
        "\n",
        "X_train['clean_beerTypes'] = X_train['clean_beerTypes'].cat.add_categories('missing')\n",
        "X_test['clean_beerTypes'] = X_test['clean_beerTypes'].cat.add_categories('missing')\n",
        "\n",
        "X_train['clean_beerTypes'].fillna('missing', inplace=True) \n",
        "X_test['clean_beerTypes'].fillna('missing', inplace=True) "
      ],
      "execution_count": 465,
      "outputs": []
    },
    {
      "cell_type": "code",
      "metadata": {
        "id": "e6CBftcveFlJ",
        "colab_type": "code",
        "colab": {}
      },
      "source": [
        "preprocessed_beerNames_tr = []\n",
        "for i in X_train['clean_beerNames']:\n",
        "  preprocessed_beerNames_tr.append(i.replace(' ','_'))\n",
        "\n",
        "preprocessed_beerNames_te = []\n",
        "for i in X_test['clean_beerNames']:\n",
        "  preprocessed_beerNames_te.append(i.replace(' ','_'))"
      ],
      "execution_count": 471,
      "outputs": []
    },
    {
      "cell_type": "code",
      "metadata": {
        "id": "JrygOQSkeYN6",
        "colab_type": "code",
        "colab": {}
      },
      "source": [
        "preprocessed_beerTypes_tr = []\n",
        "for i in X_train['clean_beerTypes']:\n",
        "  preprocessed_beerTypes_tr.append(i.replace(' ','_'))\n",
        "\n",
        "preprocessed_beerTypes_te = []\n",
        "for i in X_test['clean_beerTypes']:\n",
        "  preprocessed_beerTypes_te.append(i.replace(' ','_'))"
      ],
      "execution_count": 473,
      "outputs": []
    },
    {
      "cell_type": "code",
      "metadata": {
        "id": "Q_1xMqfSe1vj",
        "colab_type": "code",
        "colab": {}
      },
      "source": [
        "X_train['clean_beerNames_processed'] = preprocessed_beerNames_tr\n",
        "X_train.drop('clean_beerNames',axis=1,inplace=True)\n",
        "\n",
        "X_test['clean_beerNames_processed'] = preprocessed_beerNames_te\n",
        "X_test.drop('clean_beerNames',axis=1,inplace=True)\n",
        "\n",
        "X_train['clean_beerTypes_processed'] = preprocessed_beerTypes_tr\n",
        "X_train.drop('clean_beerTypes',axis=1,inplace=True)\n",
        "\n",
        "X_test['clean_beerTypes_processed'] = preprocessed_beerTypes_te\n",
        "X_test.drop('clean_beerTypes',axis=1,inplace=True)"
      ],
      "execution_count": 474,
      "outputs": []
    },
    {
      "cell_type": "code",
      "metadata": {
        "id": "omYFXAQib4ug",
        "colab_type": "code",
        "colab": {
          "base_uri": "https://localhost:8080/",
          "height": 105
        },
        "outputId": "d2e31587-eca6-4780-ad46-9179b8a39af8"
      },
      "source": [
        "std_train_12 ,std_test_12 = categorical_vectorization(X_train['clean_beerNames_processed'],X_test['clean_beerNames_processed'])\n",
        "print(\"After Column Standardisation: \")\n",
        "print(std_train_12.shape, y_train.shape)\n",
        "print(std_test_12.shape)"
      ],
      "execution_count": 476,
      "outputs": [
        {
          "output_type": "stream",
          "text": [
            "['stoudt_doubl_ipa_india_pale_ale', 'founder_curmudgeon_old_ale', 'b_r_crusher_oatmeal_imperi_stout', 'founder_nemesi', 'aecht_schlenkerla_rauchbier_rzen', 'founder_porter', 'founder_backwood_bastard', 'founder_devil_dancer', 'founder_imperi_stout', 'founder_doubl_troubl', 'pilsner_urquel', 'founder_dirti_bastard', 'founder_centenni_ipa', 'founder_red_rye_pa', 'founder_kb_kentucki_breakfast_stout', 'founder_breakfast_stout', 'missing']\n",
            "After Column Standardisation: \n",
            "(26239, 17) (26239,)\n",
            "(11246, 17)\n"
          ],
          "name": "stdout"
        }
      ]
    },
    {
      "cell_type": "code",
      "metadata": {
        "id": "8n0IuqADb4oA",
        "colab_type": "code",
        "colab": {
          "base_uri": "https://localhost:8080/",
          "height": 105
        },
        "outputId": "631935a6-6f71-4085-f8a8-5e8a1df350f5"
      },
      "source": [
        "std_train_13 ,std_test_13 = categorical_vectorization(X_train['clean_beerTypes_processed'],X_test['clean_beerTypes_processed'])\n",
        "print(\"After Column Standardisation: \")\n",
        "print(std_train_13.shape, y_train.shape)\n",
        "print(std_test_13.shape)"
      ],
      "execution_count": 477,
      "outputs": [
        {
          "output_type": "stream",
          "text": [
            "['extra_special_strong_bitter_esb', 'euro_pale_lager', 'american_barleywin', 'doppelbock', 'old_ale', 'english_pale_ale', 'fruit_veget_beer', 'czech_pilsen', 'rye_beer', 'rauchbier', 'american_porter', 'american_pale_ale_apa', 'russian_imperi_stout', 'scotch_ale_wee_heavi', 'american_doubl_imperi_ipa', 'american_ipa', 'american_doubl_imperi_stout', 'missing']\n",
            "After Column Standardisation: \n",
            "(26239, 18) (26239,)\n",
            "(11246, 18)\n"
          ],
          "name": "stdout"
        }
      ]
    },
    {
      "cell_type": "markdown",
      "metadata": {
        "id": "r3WAlecWQAb2",
        "colab_type": "text"
      },
      "source": [
        "## Vectorise Text Features"
      ]
    },
    {
      "cell_type": "code",
      "metadata": {
        "id": "Wf6ev5Rnb4lq",
        "colab_type": "code",
        "colab": {}
      },
      "source": [
        "tfv = TfidfVectorizer(min_df=3,  max_features=5000, \n",
        "            strip_accents='unicode', analyzer='word',token_pattern=r'\\w{1,}',\n",
        "            ngram_range=(1, 3), use_idf=1,smooth_idf=1,sublinear_tf=1,\n",
        "            stop_words = 'english')\n",
        "\n",
        "# Fitting TF-IDF to both training and test sets (semi-supervised learning)\n",
        "tfv.fit(list(X_train['review/text']) + list(X_test['review/text']))\n",
        "std_train_14 =  tfv.transform(X_train['review/text']) \n",
        "std_test_14 = tfv.transform(X_test['review/text'])"
      ],
      "execution_count": 481,
      "outputs": []
    },
    {
      "cell_type": "code",
      "metadata": {
        "id": "grriV81zPc9D",
        "colab_type": "code",
        "colab": {}
      },
      "source": [
        "# merge two sparse matrices: https://stackoverflow.com/a/19710648/4084039\n",
        "from scipy.sparse import hstack\n",
        "\n",
        "X_tr = hstack((std_train_1,std_train_2,std_train_3,std_train_4,std_train_5,std_train_6,std_train_7,std_train_8,std_train_9,std_train_10,std_train_11,std_train_12,std_train_13,std_train_14)).tocsr()\n",
        "X_te = hstack((std_test_1,std_test_2,std_test_3,std_test_4,std_test_5,std_test_6,std_test_7,std_test_8,std_test_9,std_test_10,std_test_11,std_test_12,std_test_13,std_test_14)).tocsr()"
      ],
      "execution_count": 483,
      "outputs": []
    },
    {
      "cell_type": "code",
      "metadata": {
        "id": "UrOFKJJlR8j7",
        "colab_type": "code",
        "colab": {
          "base_uri": "https://localhost:8080/",
          "height": 68
        },
        "outputId": "d1bc49e2-aba5-4866-e345-4d2bcc9f7c3d"
      },
      "source": [
        "print(\"Final Data matrix\")\n",
        "print(X_tr.shape, y_train.shape)\n",
        "print(X_te.shape,y_test.shape)"
      ],
      "execution_count": 494,
      "outputs": [
        {
          "output_type": "stream",
          "text": [
            "Final Data matrix\n",
            "(26239, 5048) (26239,)\n",
            "(11246, 5048) (11246,)\n"
          ],
          "name": "stdout"
        }
      ]
    },
    {
      "cell_type": "code",
      "metadata": {
        "id": "shMiWwQ4ibkB",
        "colab_type": "code",
        "colab": {}
      },
      "source": [
        "y_train_enc=np.array(list(y_train))\n",
        "y_test_enc=np.array(list(y_test))"
      ],
      "execution_count": 509,
      "outputs": []
    },
    {
      "cell_type": "markdown",
      "metadata": {
        "id": "p5WJNSBGH2gy",
        "colab_type": "text"
      },
      "source": [
        "# MODEL 1 : RandomForest Regressor"
      ]
    },
    {
      "cell_type": "code",
      "metadata": {
        "id": "3EXzcCzzhbmv",
        "colab_type": "code",
        "colab": {
          "base_uri": "https://localhost:8080/",
          "height": 306
        },
        "outputId": "1c34d4b8-571e-43b7-f378-67b9a631b3ff"
      },
      "source": [
        "from sklearn.ensemble import RandomForestRegressor\n",
        "from sklearn.model_selection import GridSearchCV\n",
        "\n",
        "\n",
        "\n",
        "# initialize Our first RandomForestRegressor model...\n",
        "regr2 = RandomForestRegressor(max_features='sqrt')\n",
        "\n",
        "# declare parameters for hyperparameter tuning\n",
        "parameters = {'n_estimators':[100,300,500,700],'max_depth':[1,3,5]} \n",
        "\n",
        "# Perform cross validation \n",
        "clf = GridSearchCV(regr2,\n",
        "                    param_grid = parameters,\n",
        "                    scoring=\"neg_mean_squared_error\",\n",
        "                    cv = 5,\n",
        "                    n_jobs = -1,\n",
        "                    verbose = 1)\n",
        "result = clf.fit(X_tr, y_train_enc)\n",
        "\n",
        "# Summarize results\n",
        "print(\"Best: %f using %s\" % (result.best_score_, result.best_params_))\n",
        "means = result.cv_results_['mean_test_score']\n",
        "stds = result.cv_results_['std_test_score']\n",
        "params = result.cv_results_['params']\n",
        "for mean, stdev, param in zip(means, stds, params):\n",
        "    print(\"%f 1(%f) with: %r\" % (mean, stdev, param))"
      ],
      "execution_count": 500,
      "outputs": [
        {
          "output_type": "stream",
          "text": [
            "Fitting 5 folds for each of 12 candidates, totalling 60 fits\n"
          ],
          "name": "stdout"
        },
        {
          "output_type": "stream",
          "text": [
            "[Parallel(n_jobs=-1)]: Using backend LokyBackend with 2 concurrent workers.\n",
            "[Parallel(n_jobs=-1)]: Done  46 tasks      | elapsed:  1.7min\n",
            "[Parallel(n_jobs=-1)]: Done  60 out of  60 | elapsed:  2.9min finished\n"
          ],
          "name": "stderr"
        },
        {
          "output_type": "stream",
          "text": [
            "Best: -0.374505 using {'max_depth': 5, 'n_estimators': 100}\n",
            "-0.454021 1(0.010649) with: {'max_depth': 1, 'n_estimators': 100}\n",
            "-0.459571 1(0.011199) with: {'max_depth': 1, 'n_estimators': 300}\n",
            "-0.457620 1(0.010934) with: {'max_depth': 1, 'n_estimators': 500}\n",
            "-0.457919 1(0.011349) with: {'max_depth': 1, 'n_estimators': 700}\n",
            "-0.416678 1(0.013544) with: {'max_depth': 3, 'n_estimators': 100}\n",
            "-0.414791 1(0.010798) with: {'max_depth': 3, 'n_estimators': 300}\n",
            "-0.414401 1(0.008702) with: {'max_depth': 3, 'n_estimators': 500}\n",
            "-0.412911 1(0.008955) with: {'max_depth': 3, 'n_estimators': 700}\n",
            "-0.374505 1(0.019761) with: {'max_depth': 5, 'n_estimators': 100}\n",
            "-0.380577 1(0.013408) with: {'max_depth': 5, 'n_estimators': 300}\n",
            "-0.380776 1(0.012326) with: {'max_depth': 5, 'n_estimators': 500}\n",
            "-0.379835 1(0.012900) with: {'max_depth': 5, 'n_estimators': 700}\n"
          ],
          "name": "stdout"
        }
      ]
    },
    {
      "cell_type": "code",
      "metadata": {
        "id": "duhP22jCiWq0",
        "colab_type": "code",
        "colab": {
          "base_uri": "https://localhost:8080/",
          "height": 136
        },
        "outputId": "7e690626-5982-4914-a93e-eb7ea46d0e45"
      },
      "source": [
        "rfr = RandomForestRegressor(max_depth=5,n_estimators=100)\n",
        "rfr.fit(X_tr, y_train_enc)"
      ],
      "execution_count": 502,
      "outputs": [
        {
          "output_type": "execute_result",
          "data": {
            "text/plain": [
              "RandomForestRegressor(bootstrap=True, ccp_alpha=0.0, criterion='mse',\n",
              "                      max_depth=5, max_features='auto', max_leaf_nodes=None,\n",
              "                      max_samples=None, min_impurity_decrease=0.0,\n",
              "                      min_impurity_split=None, min_samples_leaf=1,\n",
              "                      min_samples_split=2, min_weight_fraction_leaf=0.0,\n",
              "                      n_estimators=100, n_jobs=None, oob_score=False,\n",
              "                      random_state=None, verbose=0, warm_start=False)"
            ]
          },
          "metadata": {
            "tags": []
          },
          "execution_count": 502
        }
      ]
    },
    {
      "cell_type": "code",
      "metadata": {
        "id": "nbw126H0lYoa",
        "colab_type": "code",
        "colab": {
          "base_uri": "https://localhost:8080/",
          "height": 34
        },
        "outputId": "097c03f2-8009-4163-cd59-d6bc43ef2b06"
      },
      "source": [
        "from sklearn.externals import joblib \n",
        "# Save the model as a pickle in a file \n",
        "joblib.dump(rfr, 'rfr.pkl') "
      ],
      "execution_count": 514,
      "outputs": [
        {
          "output_type": "execute_result",
          "data": {
            "text/plain": [
              "['rfr.pkl']"
            ]
          },
          "metadata": {
            "tags": []
          },
          "execution_count": 514
        }
      ]
    },
    {
      "cell_type": "code",
      "metadata": {
        "id": "0W_Xtsh6l6Su",
        "colab_type": "code",
        "colab": {
          "base_uri": "https://localhost:8080/",
          "height": 34
        },
        "outputId": "d7567100-9ef2-4a23-b2dc-fa6ee2a8a1c6"
      },
      "source": [
        "from sklearn.metrics import mean_squared_error\n",
        "from math import sqrt\n",
        "\n",
        "predict_train = rfr.predict(X_tr)\n",
        "predict_target = rfr.predict(X_te)\n",
        "\n",
        "\n",
        "rms = sqrt(mean_squared_error(y_test_enc, predict_target))\n",
        "print(rms)"
      ],
      "execution_count": 584,
      "outputs": [
        {
          "output_type": "stream",
          "text": [
            "0.4038541839384915\n"
          ],
          "name": "stdout"
        }
      ]
    },
    {
      "cell_type": "code",
      "metadata": {
        "id": "Vjn72Wz6Scyd",
        "colab_type": "code",
        "colab": {
          "base_uri": "https://localhost:8080/",
          "height": 34
        },
        "outputId": "833da661-6bd5-4e43-d840-b196089262f9"
      },
      "source": [
        "from sklearn.metrics import r2_score\n",
        "\n",
        "coefficient_of_dermination = r2_score(y_test_enc, predict_target)\n",
        "\n",
        "print(coefficient_of_dermination)"
      ],
      "execution_count": 585,
      "outputs": [
        {
          "output_type": "stream",
          "text": [
            "0.6761037707275874\n"
          ],
          "name": "stdout"
        }
      ]
    },
    {
      "cell_type": "markdown",
      "metadata": {
        "id": "f5_o-pNYH80V",
        "colab_type": "text"
      },
      "source": [
        "# MODEL 2 : XGBoost Regressor"
      ]
    },
    {
      "cell_type": "code",
      "metadata": {
        "id": "jAouBe_7n887",
        "colab_type": "code",
        "colab": {
          "base_uri": "https://localhost:8080/",
          "height": 408
        },
        "outputId": "708917fe-eb37-4dbf-eab4-603c3fcbf135"
      },
      "source": [
        "import xgboost as xgb\n",
        "\n",
        "# initialize Our first XGBoost model...\n",
        "regr = xgb.XGBRegressor(silent=False, random_state=15)\n",
        "#regr = MultiOutputRegressor(regr1)\n",
        "\n",
        "# declare parameters for hyperparameter tuning\n",
        "parameters = {'learning_rate':[0.01,0.1],'n_estimators':[200,300,500],'max_depth':[1,2,3]} \n",
        "\n",
        "# Perform cross validation \n",
        "clf = GridSearchCV(regr,\n",
        "                    param_grid = parameters,\n",
        "                    scoring=\"neg_mean_squared_error\",\n",
        "                    cv=2,\n",
        "                    n_jobs = -1,\n",
        "                    verbose = 1)\n",
        "result = clf.fit(X_tr, y_train_enc)\n",
        "\n",
        "# Summarize results\n",
        "print(\"Best: %f using %s\" % (result.best_score_, result.best_params_))\n",
        "means = result.cv_results_['mean_test_score']\n",
        "stds = result.cv_results_['std_test_score']\n",
        "params = result.cv_results_['params']\n",
        "for mean, stdev, param in zip(means, stds, params):\n",
        "    print(\"%f 1(%f) with: %r\" % (mean, stdev, param))"
      ],
      "execution_count": 513,
      "outputs": [
        {
          "output_type": "stream",
          "text": [
            "Fitting 2 folds for each of 18 candidates, totalling 36 fits\n"
          ],
          "name": "stdout"
        },
        {
          "output_type": "stream",
          "text": [
            "[Parallel(n_jobs=-1)]: Using backend LokyBackend with 2 concurrent workers.\n",
            "[Parallel(n_jobs=-1)]: Done  36 out of  36 | elapsed: 15.5min finished\n"
          ],
          "name": "stderr"
        },
        {
          "output_type": "stream",
          "text": [
            "[14:03:21] WARNING: /workspace/src/objective/regression_obj.cu:152: reg:linear is now deprecated in favor of reg:squarederror.\n",
            "Best: -0.151329 using {'learning_rate': 0.1, 'max_depth': 3, 'n_estimators': 300}\n",
            "-0.430181 1(0.004293) with: {'learning_rate': 0.01, 'max_depth': 1, 'n_estimators': 200}\n",
            "-0.225236 1(0.001070) with: {'learning_rate': 0.01, 'max_depth': 1, 'n_estimators': 300}\n",
            "-0.178862 1(0.000172) with: {'learning_rate': 0.01, 'max_depth': 1, 'n_estimators': 500}\n",
            "-0.391738 1(0.005370) with: {'learning_rate': 0.01, 'max_depth': 2, 'n_estimators': 200}\n",
            "-0.200125 1(0.002185) with: {'learning_rate': 0.01, 'max_depth': 2, 'n_estimators': 300}\n",
            "-0.163583 1(0.000525) with: {'learning_rate': 0.01, 'max_depth': 2, 'n_estimators': 500}\n",
            "-0.382820 1(0.005374) with: {'learning_rate': 0.01, 'max_depth': 3, 'n_estimators': 200}\n",
            "-0.191962 1(0.002092) with: {'learning_rate': 0.01, 'max_depth': 3, 'n_estimators': 300}\n",
            "-0.157296 1(0.000189) with: {'learning_rate': 0.01, 'max_depth': 3, 'n_estimators': 500}\n",
            "-0.158629 1(0.000190) with: {'learning_rate': 0.1, 'max_depth': 1, 'n_estimators': 200}\n",
            "-0.156491 1(0.000178) with: {'learning_rate': 0.1, 'max_depth': 1, 'n_estimators': 300}\n",
            "-0.155045 1(0.000182) with: {'learning_rate': 0.1, 'max_depth': 1, 'n_estimators': 500}\n",
            "-0.153168 1(0.000642) with: {'learning_rate': 0.1, 'max_depth': 2, 'n_estimators': 200}\n",
            "-0.152583 1(0.000671) with: {'learning_rate': 0.1, 'max_depth': 2, 'n_estimators': 300}\n",
            "-0.152508 1(0.000494) with: {'learning_rate': 0.1, 'max_depth': 2, 'n_estimators': 500}\n",
            "-0.151579 1(0.000055) with: {'learning_rate': 0.1, 'max_depth': 3, 'n_estimators': 200}\n",
            "-0.151329 1(0.000320) with: {'learning_rate': 0.1, 'max_depth': 3, 'n_estimators': 300}\n",
            "-0.151749 1(0.000193) with: {'learning_rate': 0.1, 'max_depth': 3, 'n_estimators': 500}\n"
          ],
          "name": "stdout"
        }
      ]
    },
    {
      "cell_type": "code",
      "metadata": {
        "id": "39KFFo0PpozW",
        "colab_type": "code",
        "colab": {
          "base_uri": "https://localhost:8080/",
          "height": 153
        },
        "outputId": "7b4aa3ef-f79f-4071-bea0-0590af83122d"
      },
      "source": [
        "xgb1 = xgb.XGBRegressor(learning_rate= 0.1, max_depth= 3, n_estimators= 300)\n",
        "xgb1.fit(X_tr, y_train_enc)"
      ],
      "execution_count": 516,
      "outputs": [
        {
          "output_type": "stream",
          "text": [
            "[14:05:46] WARNING: /workspace/src/objective/regression_obj.cu:152: reg:linear is now deprecated in favor of reg:squarederror.\n"
          ],
          "name": "stdout"
        },
        {
          "output_type": "execute_result",
          "data": {
            "text/plain": [
              "XGBRegressor(base_score=0.5, booster='gbtree', colsample_bylevel=1,\n",
              "             colsample_bynode=1, colsample_bytree=1, gamma=0,\n",
              "             importance_type='gain', learning_rate=0.1, max_delta_step=0,\n",
              "             max_depth=3, min_child_weight=1, missing=None, n_estimators=300,\n",
              "             n_jobs=1, nthread=None, objective='reg:linear', random_state=0,\n",
              "             reg_alpha=0, reg_lambda=1, scale_pos_weight=1, seed=None,\n",
              "             silent=None, subsample=1, verbosity=1)"
            ]
          },
          "metadata": {
            "tags": []
          },
          "execution_count": 516
        }
      ]
    },
    {
      "cell_type": "code",
      "metadata": {
        "id": "XzkJotE6zCet",
        "colab_type": "code",
        "colab": {
          "base_uri": "https://localhost:8080/",
          "height": 34
        },
        "outputId": "76fc965c-3d28-4ecb-a590-5d21a3786f58"
      },
      "source": [
        "from sklearn.externals import joblib \n",
        "# Save the model as a pickle in a file \n",
        "joblib.dump(xgb1, 'xgb.pkl') "
      ],
      "execution_count": 518,
      "outputs": [
        {
          "output_type": "execute_result",
          "data": {
            "text/plain": [
              "['xgb.pkl']"
            ]
          },
          "metadata": {
            "tags": []
          },
          "execution_count": 518
        }
      ]
    },
    {
      "cell_type": "code",
      "metadata": {
        "id": "y-qX_W9PzQb3",
        "colab_type": "code",
        "colab": {
          "base_uri": "https://localhost:8080/",
          "height": 34
        },
        "outputId": "81884ea5-e016-4603-8fcf-59507a122cff"
      },
      "source": [
        "from sklearn.metrics import mean_squared_error\n",
        "from math import sqrt\n",
        "\n",
        "predict_train = xgb1.predict(X_tr)\n",
        "predict_target = xgb1.predict(X_te)\n",
        "\n",
        "\n",
        "rms = sqrt(mean_squared_error(y_test_enc, predict_target))\n",
        "print(rms)"
      ],
      "execution_count": 586,
      "outputs": [
        {
          "output_type": "stream",
          "text": [
            "0.37872831629803483\n"
          ],
          "name": "stdout"
        }
      ]
    },
    {
      "cell_type": "code",
      "metadata": {
        "id": "M4SZ6lfJS1M7",
        "colab_type": "code",
        "colab": {
          "base_uri": "https://localhost:8080/",
          "height": 34
        },
        "outputId": "74d5b16b-7814-4bf5-8bcf-35b46e467c54"
      },
      "source": [
        "from sklearn.metrics import r2_score\n",
        "\n",
        "coefficient_of_dermination = r2_score(y_test_enc, predict_target)\n",
        "\n",
        "print(coefficient_of_dermination)"
      ],
      "execution_count": 587,
      "outputs": [
        {
          "output_type": "stream",
          "text": [
            "0.7151525911018723\n"
          ],
          "name": "stdout"
        }
      ]
    },
    {
      "cell_type": "code",
      "metadata": {
        "id": "mGrgRM5uzl82",
        "colab_type": "code",
        "colab": {}
      },
      "source": [
        "result = pd.DataFrame()\n",
        "result['y_test'] = y_test\n",
        "result['y_predicted'] = predict_target"
      ],
      "execution_count": 520,
      "outputs": []
    },
    {
      "cell_type": "code",
      "metadata": {
        "id": "FYqJAV6WzfGM",
        "colab_type": "code",
        "colab": {
          "base_uri": "https://localhost:8080/",
          "height": 204
        },
        "outputId": "3d6d9347-ec27-4349-cdc7-3c47b23ac747"
      },
      "source": [
        "result[10:15]"
      ],
      "execution_count": 524,
      "outputs": [
        {
          "output_type": "execute_result",
          "data": {
            "text/html": [
              "<div>\n",
              "<style scoped>\n",
              "    .dataframe tbody tr th:only-of-type {\n",
              "        vertical-align: middle;\n",
              "    }\n",
              "\n",
              "    .dataframe tbody tr th {\n",
              "        vertical-align: top;\n",
              "    }\n",
              "\n",
              "    .dataframe thead th {\n",
              "        text-align: right;\n",
              "    }\n",
              "</style>\n",
              "<table border=\"1\" class=\"dataframe\">\n",
              "  <thead>\n",
              "    <tr style=\"text-align: right;\">\n",
              "      <th></th>\n",
              "      <th>y_test</th>\n",
              "      <th>y_predicted</th>\n",
              "    </tr>\n",
              "  </thead>\n",
              "  <tbody>\n",
              "    <tr>\n",
              "      <th>30632</th>\n",
              "      <td>4.0</td>\n",
              "      <td>3.857816</td>\n",
              "    </tr>\n",
              "    <tr>\n",
              "      <th>17353</th>\n",
              "      <td>3.5</td>\n",
              "      <td>3.662436</td>\n",
              "    </tr>\n",
              "    <tr>\n",
              "      <th>31272</th>\n",
              "      <td>3.5</td>\n",
              "      <td>3.929962</td>\n",
              "    </tr>\n",
              "    <tr>\n",
              "      <th>28899</th>\n",
              "      <td>4.5</td>\n",
              "      <td>4.122451</td>\n",
              "    </tr>\n",
              "    <tr>\n",
              "      <th>12446</th>\n",
              "      <td>4.0</td>\n",
              "      <td>4.211697</td>\n",
              "    </tr>\n",
              "  </tbody>\n",
              "</table>\n",
              "</div>"
            ],
            "text/plain": [
              "       y_test  y_predicted\n",
              "30632     4.0     3.857816\n",
              "17353     3.5     3.662436\n",
              "31272     3.5     3.929962\n",
              "28899     4.5     4.122451\n",
              "12446     4.0     4.211697"
            ]
          },
          "metadata": {
            "tags": []
          },
          "execution_count": 524
        }
      ]
    },
    {
      "cell_type": "markdown",
      "metadata": {
        "id": "XDwo0oeCICWR",
        "colab_type": "text"
      },
      "source": [
        "# MODEL 3 : Linear Regression "
      ]
    },
    {
      "cell_type": "code",
      "metadata": {
        "id": "-16bRn-Q2IDl",
        "colab_type": "code",
        "colab": {
          "base_uri": "https://localhost:8080/",
          "height": 221
        },
        "outputId": "c874bcc2-7f27-4901-b115-2182757fb5eb"
      },
      "source": [
        "from sklearn import linear_model\n",
        "from sklearn import ensemble\n",
        "\n",
        "alpha = [10 ** x for x in range(-6, 3)]\n",
        "\n",
        "# initialize Our first XGBoost model...\n",
        "regr = linear_model.LinearRegression()\n",
        "\n",
        "# declare parameters for hyperparameter tuning\n",
        "parameters = {'fit_intercept':[True,False], 'normalize':[True,False], 'copy_X':[True, False]}\n",
        "\n",
        "# Perform cross validation \n",
        "clf = GridSearchCV(regr,\n",
        "                    param_grid = parameters,\n",
        "                    scoring=\"neg_mean_squared_error\",\n",
        "                    cv=2,\n",
        "                    n_jobs = -1,\n",
        "                    verbose = 1)\n",
        "result = clf.fit(X_tr, y_train_enc)\n",
        "\n",
        "# Summarize results\n",
        "print(\"Best: %f using %s\" % (result.best_score_, result.best_params_))\n",
        "means = result.cv_results_['mean_test_score']\n",
        "stds = result.cv_results_['std_test_score']\n",
        "params = result.cv_results_['params']\n",
        "for mean, stdev, param in zip(means, stds, params):\n",
        "    print(\"%f 1(%f) with: %r\" % (mean, stdev, param))"
      ],
      "execution_count": 532,
      "outputs": [
        {
          "output_type": "stream",
          "text": [
            "Fitting 2 folds for each of 8 candidates, totalling 16 fits\n"
          ],
          "name": "stdout"
        },
        {
          "output_type": "stream",
          "text": [
            "[Parallel(n_jobs=-1)]: Using backend LokyBackend with 2 concurrent workers.\n",
            "[Parallel(n_jobs=-1)]: Done  16 out of  16 | elapsed:  2.8min finished\n"
          ],
          "name": "stderr"
        },
        {
          "output_type": "stream",
          "text": [
            "Best: -0.241081 using {'copy_X': True, 'fit_intercept': True, 'normalize': False}\n",
            "-0.241083 1(0.004304) with: {'copy_X': True, 'fit_intercept': True, 'normalize': True}\n",
            "-0.241081 1(0.004302) with: {'copy_X': True, 'fit_intercept': True, 'normalize': False}\n",
            "-0.241081 1(0.004301) with: {'copy_X': True, 'fit_intercept': False, 'normalize': True}\n",
            "-0.241081 1(0.004301) with: {'copy_X': True, 'fit_intercept': False, 'normalize': False}\n",
            "-0.241083 1(0.004304) with: {'copy_X': False, 'fit_intercept': True, 'normalize': True}\n",
            "-0.241081 1(0.004302) with: {'copy_X': False, 'fit_intercept': True, 'normalize': False}\n",
            "-0.241081 1(0.004301) with: {'copy_X': False, 'fit_intercept': False, 'normalize': True}\n",
            "-0.241081 1(0.004301) with: {'copy_X': False, 'fit_intercept': False, 'normalize': False}\n"
          ],
          "name": "stdout"
        }
      ]
    },
    {
      "cell_type": "code",
      "metadata": {
        "id": "nIR2tzWr4TtH",
        "colab_type": "code",
        "colab": {
          "base_uri": "https://localhost:8080/",
          "height": 34
        },
        "outputId": "48580197-3198-481f-ad20-96237caf6f62"
      },
      "source": [
        "lr = linear_model.LinearRegression(copy_X= True, fit_intercept= True, normalize=False)\n",
        "lr.fit(X_tr, y_train_enc)"
      ],
      "execution_count": 533,
      "outputs": [
        {
          "output_type": "execute_result",
          "data": {
            "text/plain": [
              "LinearRegression(copy_X=True, fit_intercept=True, n_jobs=None, normalize=False)"
            ]
          },
          "metadata": {
            "tags": []
          },
          "execution_count": 533
        }
      ]
    },
    {
      "cell_type": "code",
      "metadata": {
        "id": "3tpU7Mc11f1E",
        "colab_type": "code",
        "colab": {
          "base_uri": "https://localhost:8080/",
          "height": 34
        },
        "outputId": "7345b143-e4af-4eaf-fa56-033edab07ab7"
      },
      "source": [
        "from sklearn.metrics import mean_squared_error\n",
        "from math import sqrt\n",
        "\n",
        "predict_train = lr.predict(X_tr)\n",
        "predict_target = lr.predict(X_te)\n",
        "\n",
        "\n",
        "rms = sqrt(mean_squared_error(y_test_enc, predict_target))\n",
        "print(rms)"
      ],
      "execution_count": 588,
      "outputs": [
        {
          "output_type": "stream",
          "text": [
            "0.4193538332053493\n"
          ],
          "name": "stdout"
        }
      ]
    },
    {
      "cell_type": "code",
      "metadata": {
        "id": "laYY_FxOS-Q8",
        "colab_type": "code",
        "colab": {
          "base_uri": "https://localhost:8080/",
          "height": 34
        },
        "outputId": "ecb019c1-e96c-48de-fa45-6ba40c505843"
      },
      "source": [
        "from sklearn.metrics import r2_score\n",
        "\n",
        "coefficient_of_dermination = r2_score(y_test_enc, predict_target)\n",
        "\n",
        "print(coefficient_of_dermination)"
      ],
      "execution_count": 589,
      "outputs": [
        {
          "output_type": "stream",
          "text": [
            "0.6507648460116796\n"
          ],
          "name": "stdout"
        }
      ]
    },
    {
      "cell_type": "markdown",
      "metadata": {
        "id": "jd6Qs6nE5bGq",
        "colab_type": "text"
      },
      "source": [
        "## MODEL 4: Deep Learning Models (MLP)"
      ]
    },
    {
      "cell_type": "code",
      "metadata": {
        "id": "nBCxgRey1rqP",
        "colab_type": "code",
        "colab": {}
      },
      "source": [
        "import keras\n",
        "from keras.models import Sequential\n",
        "from keras.layers import Dense\n",
        "from keras.wrappers.scikit_learn import KerasRegressor\n",
        "from sklearn.model_selection import cross_val_score\n",
        "from sklearn.model_selection import KFold\n",
        "from sklearn.preprocessing import StandardScaler\n",
        "from sklearn.pipeline import Pipeline\n",
        "from keras.callbacks import ModelCheckpoint"
      ],
      "execution_count": 535,
      "outputs": []
    },
    {
      "cell_type": "code",
      "metadata": {
        "id": "Ojho3-JJ-HpL",
        "colab_type": "code",
        "colab": {
          "base_uri": "https://localhost:8080/",
          "height": 578
        },
        "outputId": "d7ea816b-19b3-437f-b3ee-5a90c25dbcc5"
      },
      "source": [
        "from keras.initializers import he_normal\n",
        "from keras.layers.normalization import BatchNormalization\n",
        "\n",
        "#Inıtialising the ANN\n",
        "model = Sequential()\n",
        "#Adding the input layer and first hidden layer\n",
        "model.add(Dense(units =150, kernel_initializer=he_normal(seed=None), activation= 'tanh', \n",
        "                input_dim=X_tr.shape[1]))\n",
        "\n",
        "\n",
        "\n",
        "#Add the first hidden layer\n",
        "model.add(Dense(units =100, kernel_initializer=he_normal(seed=None), activation= 'tanh'))\n",
        "model.add(Dropout(0.2))\n",
        "\n",
        "#Add the second hidden layer\n",
        "model.add(Dense(units =80, kernel_initializer=he_normal(seed=None), activation= 'tanh'))\n",
        "model.add(BatchNormalization())\n",
        "model.add(Dropout(0.2))\n",
        "\n",
        "#Add the third hidden layer\n",
        "model.add(Dense(units =50, kernel_initializer=he_normal(seed=None), activation= 'tanh'))\n",
        "\n",
        "\n",
        "#Add the fourth hidden layer\n",
        "model.add(Dense(units =30, kernel_initializer=he_normal(seed=None), activation= 'relu'))\n",
        "model.add(BatchNormalization())\n",
        "\n",
        "#Add the fifth hidden layer\n",
        "model.add(Dense(units =10, kernel_initializer=he_normal(seed=None), activation= 'relu'))\n",
        "model.add(BatchNormalization())\n",
        "\n",
        "#The output layer\n",
        "model.add(Dense(units =1, kernel_initializer=he_normal(seed=None), activation= 'elu'))\n",
        "\n",
        "print(model.summary())"
      ],
      "execution_count": 592,
      "outputs": [
        {
          "output_type": "stream",
          "text": [
            "Model: \"sequential_8\"\n",
            "_________________________________________________________________\n",
            "Layer (type)                 Output Shape              Param #   \n",
            "=================================================================\n",
            "dense_32 (Dense)             (None, 150)               757350    \n",
            "_________________________________________________________________\n",
            "dense_33 (Dense)             (None, 100)               15100     \n",
            "_________________________________________________________________\n",
            "dropout_11 (Dropout)         (None, 100)               0         \n",
            "_________________________________________________________________\n",
            "dense_34 (Dense)             (None, 80)                8080      \n",
            "_________________________________________________________________\n",
            "batch_normalization_7 (Batch (None, 80)                320       \n",
            "_________________________________________________________________\n",
            "dropout_12 (Dropout)         (None, 80)                0         \n",
            "_________________________________________________________________\n",
            "dense_35 (Dense)             (None, 50)                4050      \n",
            "_________________________________________________________________\n",
            "dense_36 (Dense)             (None, 30)                1530      \n",
            "_________________________________________________________________\n",
            "batch_normalization_8 (Batch (None, 30)                120       \n",
            "_________________________________________________________________\n",
            "dense_37 (Dense)             (None, 10)                310       \n",
            "_________________________________________________________________\n",
            "batch_normalization_9 (Batch (None, 10)                40        \n",
            "_________________________________________________________________\n",
            "dense_38 (Dense)             (None, 1)                 11        \n",
            "=================================================================\n",
            "Total params: 786,911\n",
            "Trainable params: 786,671\n",
            "Non-trainable params: 240\n",
            "_________________________________________________________________\n",
            "None\n"
          ],
          "name": "stdout"
        }
      ]
    },
    {
      "cell_type": "code",
      "metadata": {
        "id": "lANxF7NA-de6",
        "colab_type": "code",
        "colab": {
          "base_uri": "https://localhost:8080/",
          "height": 1000
        },
        "outputId": "8a9262f4-09e0-47a9-aab4-4dc0cb0f341c"
      },
      "source": [
        "#Compiling the ANN\n",
        "#opt = keras.optimizers.Adam(lr=0.0015, beta_1=0.9, beta_2=0.999, epsilon=None, decay=0.0, amsgrad=False)\n",
        "model.compile(optimizer='adam', loss='mean_squared_logarithmic_error', metrics=['mse'])\n",
        "#Fitting the ANN to the training set\n",
        "model_filepath = 'ann2.h5'\n",
        "checkpoint = ModelCheckpoint(model_filepath, monitor = 'val_loss', verbose=1, save_best_only = True, mode='min' )\n",
        "history=model.fit(X_tr,y_train_enc, validation_data=(X_te, y_test_enc), batch_size=32, nb_epoch=50, callbacks=[checkpoint])\n",
        "model.load_weights(model_filepath)"
      ],
      "execution_count": 593,
      "outputs": [
        {
          "output_type": "stream",
          "text": [
            "Train on 26239 samples, validate on 11246 samples\n",
            "Epoch 1/50\n",
            "26239/26239 [==============================] - 11s 434us/step - loss: 0.3873 - mse: 4.0829 - val_loss: 0.0296 - val_mse: 0.4580\n",
            "\n",
            "Epoch 00001: val_loss improved from inf to 0.02957, saving model to ann2.h5\n",
            "Epoch 2/50\n",
            "26239/26239 [==============================] - 11s 411us/step - loss: 0.0184 - mse: 0.3447 - val_loss: 0.0134 - val_mse: 0.2362\n",
            "\n",
            "Epoch 00002: val_loss improved from 0.02957 to 0.01342, saving model to ann2.h5\n",
            "Epoch 3/50\n",
            "26239/26239 [==============================] - 11s 424us/step - loss: 0.0139 - mse: 0.2654 - val_loss: 0.0120 - val_mse: 0.2185\n",
            "\n",
            "Epoch 00003: val_loss improved from 0.01342 to 0.01195, saving model to ann2.h5\n",
            "Epoch 4/50\n",
            "26239/26239 [==============================] - 11s 420us/step - loss: 0.0123 - mse: 0.2354 - val_loss: 0.0092 - val_mse: 0.1798\n",
            "\n",
            "Epoch 00004: val_loss improved from 0.01195 to 0.00923, saving model to ann2.h5\n",
            "Epoch 5/50\n",
            "26239/26239 [==============================] - 11s 413us/step - loss: 0.0111 - mse: 0.2158 - val_loss: 0.0087 - val_mse: 0.1705\n",
            "\n",
            "Epoch 00005: val_loss improved from 0.00923 to 0.00873, saving model to ann2.h5\n",
            "Epoch 6/50\n",
            "26239/26239 [==============================] - 11s 412us/step - loss: 0.0104 - mse: 0.2035 - val_loss: 0.0085 - val_mse: 0.1689\n",
            "\n",
            "Epoch 00006: val_loss improved from 0.00873 to 0.00851, saving model to ann2.h5\n",
            "Epoch 7/50\n",
            "26239/26239 [==============================] - 11s 413us/step - loss: 0.0098 - mse: 0.1930 - val_loss: 0.0081 - val_mse: 0.1614\n",
            "\n",
            "Epoch 00007: val_loss improved from 0.00851 to 0.00810, saving model to ann2.h5\n",
            "Epoch 8/50\n",
            "26239/26239 [==============================] - 11s 412us/step - loss: 0.0095 - mse: 0.1878 - val_loss: 0.0084 - val_mse: 0.1648\n",
            "\n",
            "Epoch 00008: val_loss did not improve from 0.00810\n",
            "Epoch 9/50\n",
            "26239/26239 [==============================] - 11s 413us/step - loss: 0.0089 - mse: 0.1766 - val_loss: 0.0084 - val_mse: 0.1651\n",
            "\n",
            "Epoch 00009: val_loss did not improve from 0.00810\n",
            "Epoch 10/50\n",
            "26239/26239 [==============================] - 11s 410us/step - loss: 0.0085 - mse: 0.1681 - val_loss: 0.0083 - val_mse: 0.1613\n",
            "\n",
            "Epoch 00010: val_loss did not improve from 0.00810\n",
            "Epoch 11/50\n",
            "26239/26239 [==============================] - 11s 411us/step - loss: 0.0080 - mse: 0.1605 - val_loss: 0.0086 - val_mse: 0.1656\n",
            "\n",
            "Epoch 00011: val_loss did not improve from 0.00810\n",
            "Epoch 12/50\n",
            "26239/26239 [==============================] - 11s 412us/step - loss: 0.0076 - mse: 0.1554 - val_loss: 0.0089 - val_mse: 0.1687\n",
            "\n",
            "Epoch 00012: val_loss did not improve from 0.00810\n",
            "Epoch 13/50\n",
            "26239/26239 [==============================] - 11s 408us/step - loss: 0.0074 - mse: 0.1517 - val_loss: 0.0084 - val_mse: 0.1624\n",
            "\n",
            "Epoch 00013: val_loss did not improve from 0.00810\n",
            "Epoch 14/50\n",
            "26239/26239 [==============================] - 11s 409us/step - loss: 0.0072 - mse: 0.1486 - val_loss: 0.0091 - val_mse: 0.1713\n",
            "\n",
            "Epoch 00014: val_loss did not improve from 0.00810\n",
            "Epoch 15/50\n",
            "26239/26239 [==============================] - 11s 412us/step - loss: 0.0068 - mse: 0.1422 - val_loss: 0.0086 - val_mse: 0.1665\n",
            "\n",
            "Epoch 00015: val_loss did not improve from 0.00810\n",
            "Epoch 16/50\n",
            "26239/26239 [==============================] - 11s 410us/step - loss: 0.0067 - mse: 0.1377 - val_loss: 0.0090 - val_mse: 0.1740\n",
            "\n",
            "Epoch 00016: val_loss did not improve from 0.00810\n",
            "Epoch 17/50\n",
            "26239/26239 [==============================] - 11s 411us/step - loss: 0.0063 - mse: 0.1326 - val_loss: 0.0090 - val_mse: 0.1701\n",
            "\n",
            "Epoch 00017: val_loss did not improve from 0.00810\n",
            "Epoch 18/50\n",
            "26239/26239 [==============================] - 11s 415us/step - loss: 0.0060 - mse: 0.1280 - val_loss: 0.0087 - val_mse: 0.1709\n",
            "\n",
            "Epoch 00018: val_loss did not improve from 0.00810\n",
            "Epoch 19/50\n",
            "26239/26239 [==============================] - 11s 408us/step - loss: 0.0056 - mse: 0.1212 - val_loss: 0.0091 - val_mse: 0.1765\n",
            "\n",
            "Epoch 00019: val_loss did not improve from 0.00810\n",
            "Epoch 20/50\n",
            "26239/26239 [==============================] - 11s 413us/step - loss: 0.0055 - mse: 0.1180 - val_loss: 0.0092 - val_mse: 0.1738\n",
            "\n",
            "Epoch 00020: val_loss did not improve from 0.00810\n",
            "Epoch 21/50\n",
            "26239/26239 [==============================] - 11s 415us/step - loss: 0.0052 - mse: 0.1131 - val_loss: 0.0091 - val_mse: 0.1767\n",
            "\n",
            "Epoch 00021: val_loss did not improve from 0.00810\n",
            "Epoch 22/50\n",
            "26239/26239 [==============================] - 11s 409us/step - loss: 0.0049 - mse: 0.1083 - val_loss: 0.0099 - val_mse: 0.1927\n",
            "\n",
            "Epoch 00022: val_loss did not improve from 0.00810\n",
            "Epoch 23/50\n",
            "26239/26239 [==============================] - 11s 413us/step - loss: 0.0048 - mse: 0.1049 - val_loss: 0.0096 - val_mse: 0.1870\n",
            "\n",
            "Epoch 00023: val_loss did not improve from 0.00810\n",
            "Epoch 24/50\n",
            "26239/26239 [==============================] - 11s 412us/step - loss: 0.0046 - mse: 0.1020 - val_loss: 0.0099 - val_mse: 0.1886\n",
            "\n",
            "Epoch 00024: val_loss did not improve from 0.00810\n",
            "Epoch 25/50\n",
            "26239/26239 [==============================] - 11s 412us/step - loss: 0.0043 - mse: 0.0962 - val_loss: 0.0098 - val_mse: 0.1898\n",
            "\n",
            "Epoch 00025: val_loss did not improve from 0.00810\n",
            "Epoch 26/50\n",
            "26239/26239 [==============================] - 11s 416us/step - loss: 0.0043 - mse: 0.0960 - val_loss: 0.0098 - val_mse: 0.1916\n",
            "\n",
            "Epoch 00026: val_loss did not improve from 0.00810\n",
            "Epoch 27/50\n",
            "26239/26239 [==============================] - 11s 413us/step - loss: 0.0040 - mse: 0.0893 - val_loss: 0.0098 - val_mse: 0.1901\n",
            "\n",
            "Epoch 00027: val_loss did not improve from 0.00810\n",
            "Epoch 28/50\n",
            "26239/26239 [==============================] - 11s 411us/step - loss: 0.0039 - mse: 0.0877 - val_loss: 0.0101 - val_mse: 0.1967\n",
            "\n",
            "Epoch 00028: val_loss did not improve from 0.00810\n",
            "Epoch 29/50\n",
            "26239/26239 [==============================] - 11s 409us/step - loss: 0.0038 - mse: 0.0856 - val_loss: 0.0102 - val_mse: 0.1981\n",
            "\n",
            "Epoch 00029: val_loss did not improve from 0.00810\n",
            "Epoch 30/50\n",
            "26239/26239 [==============================] - 11s 411us/step - loss: 0.0039 - mse: 0.0879 - val_loss: 0.0101 - val_mse: 0.1962\n",
            "\n",
            "Epoch 00030: val_loss did not improve from 0.00810\n",
            "Epoch 31/50\n",
            "26239/26239 [==============================] - 11s 410us/step - loss: 0.0035 - mse: 0.0788 - val_loss: 0.0105 - val_mse: 0.2045\n",
            "\n",
            "Epoch 00031: val_loss did not improve from 0.00810\n",
            "Epoch 32/50\n",
            "26239/26239 [==============================] - 11s 433us/step - loss: 0.0034 - mse: 0.0779 - val_loss: 0.0102 - val_mse: 0.1993\n",
            "\n",
            "Epoch 00032: val_loss did not improve from 0.00810\n",
            "Epoch 33/50\n",
            "26239/26239 [==============================] - 11s 410us/step - loss: 0.0034 - mse: 0.0767 - val_loss: 0.0104 - val_mse: 0.2036\n",
            "\n",
            "Epoch 00033: val_loss did not improve from 0.00810\n",
            "Epoch 34/50\n",
            "26239/26239 [==============================] - 11s 410us/step - loss: 0.0033 - mse: 0.0756 - val_loss: 0.0104 - val_mse: 0.2058\n",
            "\n",
            "Epoch 00034: val_loss did not improve from 0.00810\n",
            "Epoch 35/50\n",
            "26239/26239 [==============================] - 11s 413us/step - loss: 0.0030 - mse: 0.0699 - val_loss: 0.0105 - val_mse: 0.2063\n",
            "\n",
            "Epoch 00035: val_loss did not improve from 0.00810\n",
            "Epoch 36/50\n",
            "26239/26239 [==============================] - 11s 411us/step - loss: 0.0030 - mse: 0.0687 - val_loss: 0.0101 - val_mse: 0.1972\n",
            "\n",
            "Epoch 00036: val_loss did not improve from 0.00810\n",
            "Epoch 37/50\n",
            "26239/26239 [==============================] - 11s 412us/step - loss: 0.0029 - mse: 0.0664 - val_loss: 0.0107 - val_mse: 0.2076\n",
            "\n",
            "Epoch 00037: val_loss did not improve from 0.00810\n",
            "Epoch 38/50\n",
            "26239/26239 [==============================] - 11s 412us/step - loss: 0.0028 - mse: 0.0660 - val_loss: 0.0107 - val_mse: 0.2100\n",
            "\n",
            "Epoch 00038: val_loss did not improve from 0.00810\n",
            "Epoch 39/50\n",
            "26239/26239 [==============================] - 11s 410us/step - loss: 0.0027 - mse: 0.0637 - val_loss: 0.0110 - val_mse: 0.2166\n",
            "\n",
            "Epoch 00039: val_loss did not improve from 0.00810\n",
            "Epoch 40/50\n",
            "26239/26239 [==============================] - 11s 413us/step - loss: 0.0027 - mse: 0.0634 - val_loss: 0.0106 - val_mse: 0.2086\n",
            "\n",
            "Epoch 00040: val_loss did not improve from 0.00810\n",
            "Epoch 41/50\n",
            "26239/26239 [==============================] - 11s 412us/step - loss: 0.0026 - mse: 0.0606 - val_loss: 0.0107 - val_mse: 0.2117\n",
            "\n",
            "Epoch 00041: val_loss did not improve from 0.00810\n",
            "Epoch 42/50\n",
            "26239/26239 [==============================] - 11s 412us/step - loss: 0.0025 - mse: 0.0594 - val_loss: 0.0105 - val_mse: 0.2069\n",
            "\n",
            "Epoch 00042: val_loss did not improve from 0.00810\n",
            "Epoch 43/50\n",
            "26239/26239 [==============================] - 11s 412us/step - loss: 0.0025 - mse: 0.0572 - val_loss: 0.0111 - val_mse: 0.2198\n",
            "\n",
            "Epoch 00043: val_loss did not improve from 0.00810\n",
            "Epoch 44/50\n",
            "26239/26239 [==============================] - 11s 412us/step - loss: 0.0023 - mse: 0.0550 - val_loss: 0.0105 - val_mse: 0.2078\n",
            "\n",
            "Epoch 00044: val_loss did not improve from 0.00810\n",
            "Epoch 45/50\n",
            "26239/26239 [==============================] - 11s 410us/step - loss: 0.0023 - mse: 0.0538 - val_loss: 0.0108 - val_mse: 0.2142\n",
            "\n",
            "Epoch 00045: val_loss did not improve from 0.00810\n",
            "Epoch 46/50\n",
            "26239/26239 [==============================] - 11s 413us/step - loss: 0.0022 - mse: 0.0520 - val_loss: 0.0106 - val_mse: 0.2102\n",
            "\n",
            "Epoch 00046: val_loss did not improve from 0.00810\n",
            "Epoch 47/50\n",
            "26239/26239 [==============================] - 11s 410us/step - loss: 0.0023 - mse: 0.0529 - val_loss: 0.0107 - val_mse: 0.2133\n",
            "\n",
            "Epoch 00047: val_loss did not improve from 0.00810\n",
            "Epoch 48/50\n",
            "26239/26239 [==============================] - 11s 411us/step - loss: 0.0022 - mse: 0.0513 - val_loss: 0.0111 - val_mse: 0.2209\n",
            "\n",
            "Epoch 00048: val_loss did not improve from 0.00810\n",
            "Epoch 49/50\n",
            "26239/26239 [==============================] - 11s 412us/step - loss: 0.0021 - mse: 0.0491 - val_loss: 0.0111 - val_mse: 0.2233\n",
            "\n",
            "Epoch 00049: val_loss did not improve from 0.00810\n",
            "Epoch 50/50\n",
            "26239/26239 [==============================] - 11s 410us/step - loss: 0.0021 - mse: 0.0505 - val_loss: 0.0109 - val_mse: 0.2171\n",
            "\n",
            "Epoch 00050: val_loss did not improve from 0.00810\n"
          ],
          "name": "stdout"
        }
      ]
    },
    {
      "cell_type": "code",
      "metadata": {
        "id": "N3HHy7Mo_Qcl",
        "colab_type": "code",
        "colab": {}
      },
      "source": [
        "y_pred = model.predict(X_te)"
      ],
      "execution_count": 594,
      "outputs": []
    },
    {
      "cell_type": "code",
      "metadata": {
        "id": "lWd2_5fWCf6q",
        "colab_type": "code",
        "colab": {}
      },
      "source": [
        "from sklearn.metrics import mean_squared_error\n",
        "from math import sqrt\n",
        "\n",
        "predict_target = model.predict(X_te)\n",
        "\n",
        "rms = sqrt(mean_squared_error(y_test_enc, y_pred))\n",
        "print(rms)"
      ],
      "execution_count": 597,
      "outputs": []
    },
    {
      "cell_type": "code",
      "metadata": {
        "id": "8k371Ex1TDLs",
        "colab_type": "code",
        "colab": {
          "base_uri": "https://localhost:8080/",
          "height": 34
        },
        "outputId": "b58b07c6-4129-4df0-e625-c0b6ebd600d1"
      },
      "source": [
        "from sklearn.metrics import r2_score\n",
        "\n",
        "coefficient_of_dermination = r2_score(y_test_enc, y_pred)\n",
        "\n",
        "print(coefficient_of_dermination)"
      ],
      "execution_count": 597,
      "outputs": [
        {
          "output_type": "stream",
          "text": [
            "0.6795726965998063\n"
          ],
          "name": "stdout"
        }
      ]
    },
    {
      "cell_type": "markdown",
      "metadata": {
        "id": "mNI_xth-Igjx",
        "colab_type": "text"
      },
      "source": [
        "## Pretty Table"
      ]
    },
    {
      "cell_type": "code",
      "metadata": {
        "id": "5TH3d6E4Gtuc",
        "colab_type": "code",
        "colab": {
          "base_uri": "https://localhost:8080/",
          "height": 153
        },
        "outputId": "98e045d1-8074-4203-c951-9b65d9f1dd18"
      },
      "source": [
        "# Please compare all your models using Prettytable library\n",
        "# http://zetcode.com/python/prettytable/\n",
        "\n",
        "from prettytable import PrettyTable\n",
        "\n",
        "#If you get a ModuleNotFoundError error , install prettytable using: pip3 install prettytable\n",
        "\n",
        "x = PrettyTable()\n",
        "x.field_names = [\"Model Used\", \"RMSE\",\"R^2 (Coefficient of Determination)\"]\n",
        "\n",
        "x.add_row([\"Random Forest Regressor\",  0.4038, 0.6761])\n",
        "x.add_row([\"XGBoost Regressor\",  0.3787, 0.7151])\n",
        "x.add_row([\"Linear Regression\",  0.4193,0.6507])\n",
        "x.add_row([\"MLP(Deep Learning\",  0.3975,0.6795])\n",
        "\n",
        "print(x)"
      ],
      "execution_count": 599,
      "outputs": [
        {
          "output_type": "stream",
          "text": [
            "+-------------------------+--------+------------------------------------+\n",
            "|        Model Used       |  RMSE  | R^2 (Coefficient of Determination) |\n",
            "+-------------------------+--------+------------------------------------+\n",
            "| Random Forest Regressor | 0.4038 |               0.6761               |\n",
            "|    XGBoost Regressor    | 0.3787 |               0.7151               |\n",
            "|    Linear Regression    | 0.4193 |               0.6507               |\n",
            "|    MLP(Deep Learning    | 0.3975 |               0.6795               |\n",
            "+-------------------------+--------+------------------------------------+\n"
          ],
          "name": "stdout"
        }
      ]
    },
    {
      "cell_type": "markdown",
      "metadata": {
        "id": "2LdipJ6zO_gA",
        "colab_type": "text"
      },
      "source": [
        "## Conclusion : \n",
        "- XGBoost has performed best.\n",
        "- I have taken only the top frequent values for few features to decrease the categories , so that procesing is fast.  If we would work with the entire categories then may be the result would have changed for good."
      ]
    },
    {
      "cell_type": "code",
      "metadata": {
        "id": "W-kEgn1NO-0n",
        "colab_type": "code",
        "colab": {}
      },
      "source": [
        ""
      ],
      "execution_count": null,
      "outputs": []
    },
    {
      "cell_type": "code",
      "metadata": {
        "id": "H9UYAKTgO8mh",
        "colab_type": "code",
        "colab": {}
      },
      "source": [
        ""
      ],
      "execution_count": null,
      "outputs": []
    }
  ]
}